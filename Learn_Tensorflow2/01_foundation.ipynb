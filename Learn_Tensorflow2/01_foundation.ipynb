{
 "cells": [
  {
   "cell_type": "code",
   "execution_count": 1,
   "metadata": {},
   "outputs": [
    {
     "output_type": "stream",
     "name": "stdout",
     "text": [
      "2.3.1\n"
     ]
    }
   ],
   "source": [
    "# TensorFlow and tf.keras\n",
    "import tensorflow as tf\n",
    "\n",
    "# Helper libraries\n",
    "import numpy as np\n",
    "import matplotlib.pyplot as plt\n",
    "import time\n",
    "\n",
    "print(tf.__version__)"
   ]
  },
  {
   "source": [
    "## 基礎操作"
   ],
   "cell_type": "markdown",
   "metadata": {}
  },
  {
   "cell_type": "code",
   "execution_count": 9,
   "metadata": {},
   "outputs": [
    {
     "output_type": "stream",
     "name": "stdout",
     "text": [
      "0 維陣列  tf.Tensor(0.32347238, shape=(), dtype=float32)\n1 維陣列  tf.Tensor([0. 0.], shape=(2,), dtype=float32)\n2 維陣列  tf.Tensor(\n[[1. 2.]\n [3. 4.]], shape=(2, 2), dtype=float32)\n2 維陣列  tf.Tensor(\n[[5. 6.]\n [7. 8.]], shape=(2, 2), dtype=float32)\n"
     ]
    }
   ],
   "source": [
    "# 定義一個隨機數純量（0 維陣列）\n",
    "random_float = tf.random.uniform(shape=())\n",
    "print(\"0 維陣列 \",random_float)\n",
    "\n",
    "# 定義一個有2個元素的零向量（1 維陣列）\n",
    "zero_vector = tf.zeros(shape=(2))\n",
    "print(\"1 維陣列 \",zero_vector)\n",
    "\n",
    "# 定義兩個2×2的常量矩陣（2 維陣列）\n",
    "A = tf.constant([[1., 2.], [3., 4.]])\n",
    "B = tf.constant([[5., 6.], [7., 8.]])\n",
    "print(\"2 維陣列 \",A)\n",
    "print(\"2 維陣列 \",B)"
   ]
  },
  {
   "cell_type": "code",
   "execution_count": 8,
   "metadata": {},
   "outputs": [
    {
     "output_type": "stream",
     "name": "stdout",
     "text": [
      "(2, 2)\n<dtype: 'float32'>\n[[1. 2.]\n [3. 4.]]\n"
     ]
    }
   ],
   "source": [
    "# 查看矩陣A的形狀、類型和值\n",
    "print(A.shape)      \n",
    "print(A.dtype)      \n",
    "print(A.numpy())"
   ]
  },
  {
   "cell_type": "code",
   "execution_count": 6,
   "metadata": {},
   "outputs": [],
   "source": [
    "C = tf.add(A, B)    # 計算矩陣A和B的和\n",
    "D = tf.matmul(A, B) # 計算矩陣A和B的乘積"
   ]
  },
  {
   "source": [
    "## 自動推導機制 "
   ],
   "cell_type": "markdown",
   "metadata": {}
  },
  {
   "cell_type": "code",
   "execution_count": 11,
   "metadata": {},
   "outputs": [
    {
     "output_type": "stream",
     "name": "stdout",
     "text": [
      "tf.Tensor(9.0, shape=(), dtype=float32) tf.Tensor(6.0, shape=(), dtype=float32)\n"
     ]
    }
   ],
   "source": [
    "x = tf.Variable(3.0)\n",
    "\n",
    "with tf.GradientTape() as tape:     # 在 tf.GradientTape() 的上下文內，所有計算步驟都會被記錄以用於推導\n",
    "    y = tf.square(x)\n",
    "y_grad = tape.gradient(y, x)        # 計算y關於x的導數\n",
    "\n",
    "print(y, y_grad)"
   ]
  },
  {
   "cell_type": "code",
   "execution_count": 15,
   "metadata": {},
   "outputs": [
    {
     "output_type": "stream",
     "name": "stdout",
     "text": [
      "tf.Tensor(125.0, shape=(), dtype=float32)\ntf.Tensor(\n[[ 70.]\n [100.]], shape=(2, 1), dtype=float32)\ntf.Tensor(30.0, shape=(), dtype=float32)\n"
     ]
    }
   ],
   "source": [
    "X = tf.constant([[1., 2.], [3., 4.]])\n",
    "y = tf.constant([[1.], [2.]])\n",
    "w = tf.Variable(initial_value=[[1.], [2.]])\n",
    "b = tf.Variable(initial_value=1.)\n",
    "\n",
    "with tf.GradientTape() as tape:\n",
    "    L = tf.reduce_sum(tf.square(tf.matmul(X, w) + b - y))\n",
    "\n",
    "w_grad, b_grad = tape.gradient(L, [w, b])        # 計算L(w, b)關於w, b的偏導數\n",
    "\n",
    "print(L)\n",
    "print(w_grad)\n",
    "print(b_grad)"
   ]
  },
  {
   "source": [
    "## 線性回歸"
   ],
   "cell_type": "markdown",
   "metadata": {}
  },
  {
   "cell_type": "code",
   "execution_count": 16,
   "metadata": {},
   "outputs": [],
   "source": [
    "import numpy as np\n",
    "\n",
    "X_raw = np.array([2013, 2014, 2015, 2016, 2017], dtype=np.float32)\n",
    "y_raw = np.array([12000, 14000, 15000, 16500, 17500], dtype=np.float32)\n",
    "\n",
    "X = (X_raw - X_raw.min()) / (X_raw.max() - X_raw.min())\n",
    "y = (y_raw - y_raw.min()) / (y_raw.max() - y_raw.min())"
   ]
  },
  {
   "cell_type": "code",
   "execution_count": 22,
   "metadata": {},
   "outputs": [
    {
     "output_type": "stream",
     "name": "stdout",
     "text": [
      "[<tf.Tensor: shape=(), dtype=float32, numpy=-3.9545455>, <tf.Tensor: shape=(), dtype=float32, numpy=-5.4545455>]\ntf.Tensor(-3.9545455, shape=(), dtype=float32)\ntf.Tensor(-5.4545455, shape=(), dtype=float32)\n"
     ]
    }
   ],
   "source": [
    "X = tf.constant(X)\n",
    "y = tf.constant(y)\n",
    "\n",
    "a = tf.Variable(initial_value=0.)\n",
    "b = tf.Variable(initial_value=0.)\n",
    "variables = [a, b]\n",
    "\n",
    "num_epoch = 1\n",
    "optimizer = tf.keras.optimizers.SGD(learning_rate=5e-4)\n",
    "for e in range(num_epoch):\n",
    "    # 使用tf.GradientTape()記錄損失函數的梯度資訊\n",
    "    with tf.GradientTape() as tape:\n",
    "        y_pred = a * X + b\n",
    "        loss = tf.reduce_sum(tf.square(y_pred - y))\n",
    "    # TensorFlow自動計算損失函數關於自變數（模型參數）的梯度\n",
    "    grads = tape.gradient(loss, variables)\n",
    "    print (grads)\n",
    "\n",
    "    # TensorFlow自動根據梯度更新參數\n",
    "    optimizer.apply_gradients(grads_and_vars=zip(grads, variables))\n",
    "\n",
    "# print(a, b)"
   ]
  },
  {
   "cell_type": "code",
   "execution_count": null,
   "metadata": {},
   "outputs": [],
   "source": []
  }
 ],
 "metadata": {
  "kernelspec": {
   "name": "pythonjvsc74a57bd001ab250d51d476354f881459c2d06896efccfd5024e6637054e3702514e5975f",
   "display_name": "Python 3.7.5  ('tensorflow2': venv)"
  },
  "language_info": {
   "codemirror_mode": {
    "name": "ipython",
    "version": 3
   },
   "file_extension": ".py",
   "mimetype": "text/x-python",
   "name": "python",
   "nbconvert_exporter": "python",
   "pygments_lexer": "ipython3",
   "version": "3.7.5"
  },
  "metadata": {
   "interpreter": {
    "hash": "01ab250d51d476354f881459c2d06896efccfd5024e6637054e3702514e5975f"
   }
  }
 },
 "nbformat": 4,
 "nbformat_minor": 4
}