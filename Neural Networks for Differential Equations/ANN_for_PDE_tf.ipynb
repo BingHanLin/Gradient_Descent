{
 "cells": [
  {
   "cell_type": "code",
   "execution_count": 1,
   "metadata": {
    "colab": {},
    "colab_type": "code",
    "id": "wT0HEUGdEov2"
   },
   "outputs": [],
   "source": [
    "import tensorflow as tf\n",
    "import numpy as np\n",
    "import shutil\n",
    "import os"
   ]
  },
  {
   "cell_type": "markdown",
   "metadata": {},
   "source": [
    "## The PDE example"
   ]
  },
  {
   "cell_type": "markdown",
   "metadata": {
    "colab_type": "text",
    "id": "J6eLaCMr_Hnm"
   },
   "source": [
    "The PDE equation is:\n",
    "$$\\nabla{\\Psi}^2(x,y) = e^{-x}(x-2+y^3+6y)$$"
   ]
  },
  {
   "cell_type": "markdown",
   "metadata": {},
   "source": [
    "With the following condition:\n",
    "$$x,y \\in [0,1]$$\n",
    "$$\\Psi(0,y) = y^3, \\quad \\Psi(1,y) = (1+y^3)e^{-1}$$\n",
    "$$\\Psi(x,0) = xe^{-x}, \\quad \\Psi(x,1) = (x+1)e^{-x}$$"
   ]
  },
  {
   "cell_type": "markdown",
   "metadata": {},
   "source": [
    "The trial neural form of the solution which satisflies the constraints above is assumed to be:\n",
    "\n",
    "$$\\Psi_{t}(x,y) = A(x,y)+x(1-x)y(1-y)N(x,y,\\vec{p})$$\n",
    "\n",
    "Where $N(x,y,\\vec{p})$ is the output of the neural network, $\\vec{p}$ are the parameters of the neural network. $A(x,y)$ is defined as:\n",
    "\n",
    "$$A(x,y) = (1-x)y^3+x(1+y^3)e^{-1}+(1-y)x(e^{-x}-e^{-1})+y[(1+x)e^{-x}-(1-x-2xe^{-1})]$$"
   ]
  },
  {
   "cell_type": "markdown",
   "metadata": {},
   "source": [
    "The analytic solution is:\n",
    "    \n",
    "$$\\Psi_{a}(x, y) = e^{-x}(x+y^3)$$"
   ]
  },
  {
   "cell_type": "markdown",
   "metadata": {},
   "source": [
    "## Function for the PDE"
   ]
  },
  {
   "cell_type": "code",
   "execution_count": 2,
   "metadata": {
    "colab": {},
    "colab_type": "code",
    "id": "UWTqEk9m_KdG"
   },
   "outputs": [],
   "source": [
    "def trial_neural_form_solution(x, y, network_output):\n",
    "    with tf.name_scope('Psi_networks'):\n",
    "        A =  (1.-x)*tf.pow(y, 3) + x*(1+tf.pow(y, 3))*tf.exp(-1.) + (1.-y)*x*( tf.exp(-x) - tf.exp(-1.) ) + \\\n",
    "             y*( (1.+x)*tf.exp(-x) - (1-x+2*x*tf.exp(-1.)) )\n",
    "\n",
    "    return     A + x*(1-x)*y*(1-y)*network_output\n",
    "\n",
    "\n",
    "def d_Psi_from_eq(x, y, network_output):\n",
    "    \n",
    "    with tf.name_scope('d_Psi_from_eq'):\n",
    "        d_Psi = tf.exp(-x)*(x-2.+tf.pow(y, 3)+6.*y)\n",
    "    \n",
    "    return d_Psi\n",
    "\n",
    "\n",
    "def d_Psi_from_cal(x, y, network_output):\n",
    "    \n",
    "    with tf.name_scope('d_Psi_from_cal'):\n",
    "        Psi_network = trial_neural_form_solution(x, y, network_output)\n",
    "\n",
    "        d_Psi_network_dxx = tf.gradients(tf.gradients(Psi_network, x)[0], x)[0]\n",
    "        d_Psi_network_dyy = tf.gradients(tf.gradients(Psi_network, y)[0], y)[0]\n",
    "\n",
    "        d_Psi = d_Psi_network_dxx + d_Psi_network_dyy\n",
    "        \n",
    "    return d_Psi\n",
    "\n",
    "    \n",
    "def analytic_sol(x, y):\n",
    "    '''\n",
    "        Analytical solution of current problem\n",
    "    '''\n",
    "    return np.exp(-x)*( x + np.power(y, 3) )\n"
   ]
  },
  {
   "cell_type": "markdown",
   "metadata": {},
   "source": [
    "## Input data and analytic solution"
   ]
  },
  {
   "cell_type": "code",
   "execution_count": 3,
   "metadata": {},
   "outputs": [],
   "source": [
    "# training data\n",
    "nx_train, ny_train = (10, 10)\n",
    "\n",
    "x_train = np.linspace(0, 1, nx_train, dtype=\"float32\")\n",
    "y_train = np.linspace(0, 1, ny_train, dtype=\"float32\")\n",
    "\n",
    "x_train, y_train = np.meshgrid(x_train, y_train)\n",
    "\n",
    "x_train = x_train.flatten().reshape(-1, 1)\n",
    "\n",
    "y_train = y_train.flatten().reshape(-1, 1)\n",
    "\n",
    "\n",
    "# prediction data\n",
    "nx_predict, ny_predict = (15, 15)\n",
    "\n",
    "x_predict = np.linspace(0, 1, nx_predict, dtype=\"float32\")\n",
    "y_predict = np.linspace(0, 1, ny_predict, dtype=\"float32\")\n",
    "\n",
    "x_predict, y_predict = np.meshgrid(x_predict, y_predict)\n",
    "\n",
    "x_predict = x_predict.flatten().reshape(-1, 1)\n",
    "y_predict = y_predict.flatten().reshape(-1, 1)\n",
    "\n",
    "psi_analytic = analytic_sol(x_predict, y_predict)"
   ]
  },
  {
   "cell_type": "markdown",
   "metadata": {
    "colab_type": "text",
    "id": "z1nP8tLQAMWx"
   },
   "source": [
    "## Build the neural network"
   ]
  },
  {
   "cell_type": "code",
   "execution_count": 4,
   "metadata": {
    "colab": {},
    "colab_type": "code",
    "id": "l7mI3svgAGyH"
   },
   "outputs": [],
   "source": [
    "# Parameters\n",
    "learning_rate = 0.001\n",
    "num_steps = 500\n",
    "display_step = 100\n",
    "batch_size = 100\n",
    "data_length = len(x_train[:,0])\n",
    "\n",
    "# Network Parameters\n",
    "n_hidden_1 = 10 # 1st layer number of neurons\n",
    "num_input = 2 # data input\n",
    "num_output = 1"
   ]
  },
  {
   "cell_type": "code",
   "execution_count": 5,
   "metadata": {
    "colab": {},
    "colab_type": "code",
    "id": "6DXzMhpGCy9A"
   },
   "outputs": [],
   "source": [
    "# tf Graph input\n",
    "with tf.name_scope('Inputs'):\n",
    "    x_feeds = tf.placeholder(tf.float32, shape = [None, 1])\n",
    "    y_feeds = tf.placeholder(tf.float32, shape = [None, 1])\n",
    "    input_data = tf.concat([ x_feeds, y_feeds],1)"
   ]
  },
  {
   "cell_type": "code",
   "execution_count": 6,
   "metadata": {
    "colab": {},
    "colab_type": "code",
    "id": "ryU_jT5nDVZD"
   },
   "outputs": [
    {
     "name": "stdout",
     "output_type": "stream",
     "text": [
      "WARNING:tensorflow:From D:\\Anaconda\\envs\\MLenv\\lib\\site-packages\\tensorflow\\python\\framework\\op_def_library.py:263: colocate_with (from tensorflow.python.framework.ops) is deprecated and will be removed in a future version.\n",
      "Instructions for updating:\n",
      "Colocations handled automatically by placer.\n"
     ]
    }
   ],
   "source": [
    "# Store layers weight & bias\n",
    "weights = {\n",
    "    'h1': tf.Variable(tf.random_normal([num_input, n_hidden_1])),\n",
    "    'out': tf.Variable(tf.random_normal([n_hidden_1, num_output]))\n",
    "}\n",
    "\n",
    "biases = {\n",
    "    'b1': tf.Variable(tf.random_normal([n_hidden_1])),\n",
    "    'out': tf.Variable(tf.random_normal([num_output]))\n",
    "}"
   ]
  },
  {
   "cell_type": "code",
   "execution_count": 7,
   "metadata": {
    "colab": {},
    "colab_type": "code",
    "id": "uqQ7nDuLD34g"
   },
   "outputs": [],
   "source": [
    "# Create a flow for network model\n",
    "def neural_net(x):\n",
    "  \n",
    "    # Hidden fully connected layer with 256 neurons\n",
    "    layer_1 = tf.add(tf.matmul(x, weights['h1']), biases['b1'])\n",
    "    layer_1 = tf.nn.sigmoid(layer_1)\n",
    "\n",
    "    # Output fully connected layer with a neuron for each class\n",
    "    outputs = tf.matmul(layer_1, weights['out']) + biases['out']\n",
    "\n",
    "    return outputs"
   ]
  },
  {
   "cell_type": "code",
   "execution_count": 8,
   "metadata": {
    "colab": {},
    "colab_type": "code",
    "id": "cHgVs8tfGe6l"
   },
   "outputs": [],
   "source": [
    "# Define feed forward flow\n",
    "network_output = neural_net(input_data)"
   ]
  },
  {
   "cell_type": "code",
   "execution_count": 9,
   "metadata": {
    "colab": {
     "base_uri": "https://localhost:8080/",
     "height": 88
    },
    "colab_type": "code",
    "executionInfo": {
     "elapsed": 1075,
     "status": "ok",
     "timestamp": 1556693322022,
     "user": {
      "displayName": "BingHan Lin",
      "photoUrl": "",
      "userId": "10763683554242092923"
     },
     "user_tz": -480
    },
    "id": "L7HSftEdGcW4",
    "outputId": "9807a8d1-da90-43e0-d77a-dcc903d0c9f8"
   },
   "outputs": [
    {
     "name": "stdout",
     "output_type": "stream",
     "text": [
      "WARNING:tensorflow:From D:\\Anaconda\\envs\\MLenv\\lib\\site-packages\\tensorflow\\python\\ops\\math_ops.py:3066: to_int32 (from tensorflow.python.ops.math_ops) is deprecated and will be removed in a future version.\n",
      "Instructions for updating:\n",
      "Use tf.cast instead.\n"
     ]
    }
   ],
   "source": [
    "# Define loss and optimizer\n",
    "Psi_network = trial_neural_form_solution(x_feeds, y_feeds, network_output)\n",
    "Psi_network = tf.identity(Psi_network, name=\"predict_output\")\n",
    "\n",
    "d_Psi_from_eq_val = d_Psi_from_eq(x_feeds, y_feeds, network_output)\n",
    "d_Psi_from_cal_val = d_Psi_from_cal(x_feeds, y_feeds, network_output)\n",
    "\n",
    "with tf.name_scope('Loss'):\n",
    "    loss_op = tf.sqrt(tf.reduce_mean(tf.squared_difference(d_Psi_from_cal_val, d_Psi_from_eq_val)))\n",
    "\n",
    "with tf.name_scope('Train'):\n",
    "    optimizer = tf.train.AdamOptimizer(learning_rate = learning_rate)\n",
    "    train_op = optimizer.minimize(loss_op)\n"
   ]
  },
  {
   "cell_type": "code",
   "execution_count": 10,
   "metadata": {
    "colab": {
     "base_uri": "https://localhost:8080/",
     "height": 301
    },
    "colab_type": "code",
    "executionInfo": {
     "elapsed": 667,
     "status": "error",
     "timestamp": 1556693421737,
     "user": {
      "displayName": "BingHan Lin",
      "photoUrl": "",
      "userId": "10763683554242092923"
     },
     "user_tz": -480
    },
    "id": "FDp1fI-uKHaT",
    "outputId": "da5b2d19-c125-4d72-ff3b-4becd110022a"
   },
   "outputs": [],
   "source": [
    "# Check the file path for saving the model\n",
    "folderpath = \"./tmp/model\"\n",
    "filepath = folderpath+\"/test_model\"\n",
    "\n",
    "if os.path.exists(folderpath):\n",
    "    shutil.rmtree(folderpath)\n",
    "    \n",
    "os.makedirs(folderpath)\n",
    "\n",
    "tf.add_to_collection(\"input_x\", x_feeds)\n",
    "tf.add_to_collection(\"input_y\", y_feeds)\n",
    "tf.add_to_collection(\"psi_value\", Psi_network)"
   ]
  },
  {
   "cell_type": "code",
   "execution_count": 11,
   "metadata": {
    "colab": {
     "base_uri": "https://localhost:8080/",
     "height": 374
    },
    "colab_type": "code",
    "executionInfo": {
     "elapsed": 1355,
     "status": "ok",
     "timestamp": 1556693504518,
     "user": {
      "displayName": "BingHan Lin",
      "photoUrl": "",
      "userId": "10763683554242092923"
     },
     "user_tz": -480
    },
    "id": "ZMvk0IJgIjIX",
    "outputId": "3b7cdece-bee5-4f38-98ca-3d21c9c28b1e"
   },
   "outputs": [
    {
     "name": "stdout",
     "output_type": "stream",
     "text": [
      "Step 1, Loss = 2.6104\n",
      "Step 100, Loss = 2.0988\n",
      "Step 200, Loss = 1.6041\n",
      "Step 300, Loss = 1.1297\n",
      "Step 400, Loss = 0.7002\n",
      "Step 500, Loss = 0.3967\n",
      "Training Finished!\n",
      "Model saved in file: ./tmp/model/test_model\n"
     ]
    }
   ],
   "source": [
    "# Start training\n",
    "\n",
    "# Initialize the variables (i.e. assign their default value)\n",
    "init = tf.global_variables_initializer()\n",
    "\n",
    "# create saver object\n",
    "saver = tf.train.Saver()\n",
    "\n",
    "\n",
    "with tf.Session() as sess:\n",
    " \n",
    "    # Run the initializer\n",
    "    sess.run(init)\n",
    "\n",
    "    for step in range(1, num_steps+1):\n",
    "        \n",
    "        # Run optimization op (backprop)\n",
    "        sess.run(train_op, feed_dict={x_feeds: x_train , y_feeds: y_train })\n",
    "\n",
    "        if step % display_step == 0 or step == 1:\n",
    "           \n",
    "            # Calculate batch loss and accuracy\n",
    "            loss = sess.run(loss_op, feed_dict={x_feeds: x_train , y_feeds: y_train })\n",
    "            print (\"Step \" + str(step) + \", Loss = \" + \"{:.4f}\".format(loss) )\n",
    "            \n",
    "    print (\"Training Finished!\")\n",
    "\n",
    "    # save model     \n",
    "    save_path = saver.save(sess, filepath)\n",
    "    print(\"Model saved in file: %s\" % save_path)"
   ]
  },
  {
   "cell_type": "markdown",
   "metadata": {},
   "source": [
    "## Restore the model and predict"
   ]
  },
  {
   "cell_type": "code",
   "execution_count": 12,
   "metadata": {},
   "outputs": [
    {
     "name": "stdout",
     "output_type": "stream",
     "text": [
      "WARNING:tensorflow:From D:\\Anaconda\\envs\\MLenv\\lib\\site-packages\\tensorflow\\python\\training\\saver.py:1266: checkpoint_exists (from tensorflow.python.training.checkpoint_management) is deprecated and will be removed in a future version.\n",
      "Instructions for updating:\n",
      "Use standard file APIs to check for files with this prefix.\n",
      "INFO:tensorflow:Restoring parameters from ./tmp/model\\test_model\n"
     ]
    }
   ],
   "source": [
    "tf.reset_default_graph()\n",
    "\n",
    "with tf.Session() as sess:\n",
    "    \n",
    "    # 使用 import_meta_graph 載入計算圖\n",
    "    saver = tf.train.import_meta_graph(filepath+\".meta\")\n",
    "    saver.restore(sess, tf.train.latest_checkpoint(folderpath))\n",
    "    \n",
    "    graph = tf.get_default_graph()\n",
    "    \n",
    "    input_x = tf.get_collection(\"input_x\")[0]\n",
    "    input_y = tf.get_collection(\"input_y\")[0]\n",
    "    ouput_again = tf.get_collection(\"psi_value\")[0]\n",
    "    \n",
    "    psi_predict_network = sess.run(ouput_again, feed_dict = {input_x: x_predict, input_y: y_predict})\n"
   ]
  },
  {
   "cell_type": "code",
   "execution_count": 14,
   "metadata": {},
   "outputs": [
    {
     "data": {
      "image/png": "[encoded data removed]",
      "text/plain": [
       "<Figure size 432x288 with 1 Axes>"
      ]
     },
     "metadata": {
      "needs_background": "light"
     },
     "output_type": "display_data"
    }
   ],
   "source": [
    "from matplotlib import pyplot as plt\n",
    "from mpl_toolkits.mplot3d import Axes3D \n",
    "\n",
    "fig = plt.figure()\n",
    "ax = fig.add_subplot(111, projection='3d')\n",
    "\n",
    "\n",
    "ax.scatter(x_predict[:,0], y_predict[:,0], psi_analytic, label=\"analytic sol\") \n",
    "ax.scatter(x_predict[:,0], y_predict[:,0], psi_predict_network,  label=\"predict sol\")\n",
    "\n",
    "ax.legend(bbox_to_anchor=(0., 1.02, 1., .102), loc=3,\n",
    "           ncol=2, mode=\"expand\", borderaxespad=0.)\n",
    "\n",
    "\n",
    "\n",
    "ax.set_xlabel('X - axis')\n",
    "ax.set_ylabel('Y - axis')\n",
    "ax.set_zlabel('Psi Value')\n",
    "ax.grid()\n",
    "plt.savefig('ANN_for_PDE.png')\n",
    "plt.show()"
   ]
  },
  {
   "cell_type": "code",
   "execution_count": null,
   "metadata": {},
   "outputs": [],
   "source": []
  },
  {
   "cell_type": "code",
   "execution_count": null,
   "metadata": {},
   "outputs": [],
   "source": []
  }
 ],
 "metadata": {
  "colab": {
   "collapsed_sections": [],
   "name": "tf_ANN_for_ODE.ipynb",
   "provenance": [],
   "version": "0.3.2"
  },
  "kernelspec": {
   "display_name": "Python 3",
   "language": "python",
   "name": "python3"
  },
  "language_info": {
   "codemirror_mode": {
    "name": "ipython",
    "version": 3
   },
   "file_extension": ".py",
   "mimetype": "text/x-python",
   "name": "python",
   "nbconvert_exporter": "python",
   "pygments_lexer": "ipython3",
   "version": "3.7.2"
  }
 },
 "nbformat": 4,
 "nbformat_minor": 2
}
