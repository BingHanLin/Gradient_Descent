{
 "cells": [
  {
   "cell_type": "markdown",
   "metadata": {},
   "source": [
    "## The PDE example"
   ]
  },
  {
   "cell_type": "markdown",
   "metadata": {
    "colab_type": "text",
    "id": "J6eLaCMr_Hnm"
   },
   "source": [
    "The PDE equation is:\n",
    "\n",
    "$$\\frac{\\partial \\phi}{\\partial t}=-u\\frac{\\partial \\phi}{\\partial x}$$"
   ]
  },
  {
   "cell_type": "markdown",
   "metadata": {},
   "source": [
    "With the initial value:\n",
    "$$\\phi_0 = \\phi(x,0)$$"
   ]
  },
  {
   "cell_type": "code",
   "execution_count": 1,
   "metadata": {},
   "outputs": [],
   "source": [
    "# TensorFlow and tf.keras\n",
    "import tensorflow as tf\n",
    "\n",
    "# Helper libraries\n",
    "import numpy as np\n",
    "import matplotlib.pyplot as plt\n",
    "import time\n",
    "\n",
    "# tf.compat.v1.disable_eager_execution()"
   ]
  },
  {
   "cell_type": "markdown",
   "metadata": {},
   "source": [
    "# 1. Build model"
   ]
  },
  {
   "cell_type": "markdown",
   "metadata": {},
   "source": [
    "## Model\n",
    "https://weikaiwei.com/tf/tensorflow-2-mnist-2/"
   ]
  },
  {
   "cell_type": "code",
   "execution_count": 12,
   "metadata": {},
   "outputs": [],
   "source": [
    "class solve_PDE_Model():\n",
    "    def __init__(self, loss_calculator):\n",
    "        self.loss_calculator = loss_calculator\n",
    "        self.optimizer = tf.keras.optimizers.Adam(learning_rate=0.01)\n",
    "        self.metrics = tf.keras.metrics.Mean(0.001)\n",
    "\n",
    "        inputs = tf.keras.Input(shape=(2,), name=\"inputs\")\n",
    "        x = tf.keras.layers.Dense(units=20, activation=tf.nn.sigmoid, name='layer1')(inputs)\n",
    "        x = tf.keras.layers.Dense(units=20, activation=tf.nn.sigmoid, name='layer2')(x)\n",
    "        x = tf.keras.layers.Dense(units=20, activation=tf.nn.sigmoid, name='layer3')(x)\n",
    "        x = tf.keras.layers.Dense(units=20, activation=tf.nn.sigmoid, name='layer4')(x)\n",
    "        x = tf.keras.layers.Dense(units=20, activation=tf.nn.sigmoid, name='layer5')(x)\n",
    "        outputs = tf.keras.layers.Dense(units=1, name='output')(x)\n",
    "    \n",
    "        self.model = tf.keras.Model(inputs=inputs, outputs=outputs)\n",
    "            \n",
    "\n",
    "    def predict(self, x_data, t_data):\n",
    "        print(\"Start prediction\")\n",
    "        input_data = tf.stack([tf.reshape(x_data, [-1]), tf.reshape(t_data, [-1])], axis=1)\n",
    "        return self.model(input_data)\n",
    "\n",
    "    def train(self, x_data, t_data, epochs):\n",
    "        print(\"Start training\")\n",
    "        self.metrics.reset_states()\n",
    "\n",
    "        for epoch in range(epochs):\n",
    "            self.train_epoch(x_data, t_data)\n",
    "\n",
    "            if(epoch%500 == 0):\n",
    "                print(\"Epoch {0}, Loss {1}\".format(epoch, self.metrics.result()))\n",
    "\n",
    "    @tf.function\n",
    "    def train_epoch(self, x_data, t_data):\n",
    "        with tf.GradientTape() as tape:\n",
    "            x_data_reshape = tf.reshape(x_data, [-1])\n",
    "            t_data_reshape = tf.reshape(t_data, [-1])\n",
    "            input_data = tf.stack([x_data_reshape, t_data_reshape], axis=1)\n",
    "\n",
    "            # Run forward\n",
    "            phi = self.model(input_data)\n",
    "            # Compute the loss value\n",
    "            loss = self.loss_calculator.loss(x_data_reshape, t_data_reshape, phi)\n",
    "\n",
    "\n",
    "        # Update metrics\n",
    "        self.metrics.update_state(loss)\n",
    "\n",
    "        # Compute gradients\n",
    "        trainable_vars = self.model.trainable_variables\n",
    "        gradients = tape.gradient(loss, trainable_vars)\n",
    "\n",
    "        #Update weights\n",
    "        self.optimizer.apply_gradients(zip(gradients, trainable_vars))\n"
   ]
  },
  {
   "cell_type": "markdown",
   "metadata": {},
   "source": [
    "## [Loss function](https://www.tensorflow.org/guide/keras/train_and_evaluate#custom_losses)"
   ]
  },
  {
   "cell_type": "code",
   "execution_count": 13,
   "metadata": {},
   "outputs": [],
   "source": [
    "class PDE_Loss():\n",
    "    def __init__(self, phi_init, u, regularization_factor=0.1):\n",
    "        self.phi_init = phi_init\n",
    "        self.u = u\n",
    "\n",
    "    def loss(self, x_data, t_data, phi):\n",
    "        phi_t = tf.gradients(phi, t_data)[0]\n",
    "        phi_x = tf.gradients(phi, x_data)[0]\n",
    "\n",
    "        phi_t = tf.reshape(phi_t, [phi_t.shape[0],1])\n",
    "        phi_x = tf.reshape(phi_x, [phi_x.shape[0],1])\n",
    "        \n",
    "        governing_Eq = phi_t+self.u+phi_x\n",
    "        \n",
    "        init_size = self.phi_init.shape[0]\n",
    "\n",
    "        number_of_time_step = governing_Eq.shape[0] / init_size\n",
    "\n",
    "        loss = tf.reduce_mean(tf.square(phi[:init_size]-self.phi_init)) \n",
    "\n",
    "        for one_time_step in range(1, int(number_of_time_step)):\n",
    "                    \n",
    "            loss += tf.reduce_sum(tf.square(\n",
    "                # governing_Eq in loss   \n",
    "                governing_Eq[one_time_step*init_size+1:(one_time_step+1)*init_size-1]\n",
    "            ))\n",
    "    \n",
    "            loss += tf.reduce_mean(tf.square(\n",
    "                 # bc in loss   \n",
    "                (phi[one_time_step*init_size][0]-1.0) \n",
    "            ))\n",
    "        \n",
    "            loss += tf.reduce_mean(tf.square(\n",
    "                 # bc in loss   \n",
    "                (phi[(one_time_step+1)*init_size-1][0]-1.0)\n",
    "            ))\n",
    "                \n",
    "\n",
    "        return loss\n",
    "    \n"
   ]
  },
  {
   "cell_type": "code",
   "execution_count": 22,
   "metadata": {
    "tags": []
   },
   "outputs": [
    {
     "output_type": "stream",
     "name": "stdout",
     "text": [
      "Start training\n",
      "Epoch 0, Loss 59.22814178466797\n",
      "Epoch 500, Loss 3.2438652515411377\n",
      "Epoch 1000, Loss 1.7490025758743286\n",
      "Epoch 1500, Loss 1.2498905658721924\n",
      "Epoch 2000, Loss 1.0001225471496582\n",
      "Epoch 2500, Loss 0.8501670360565186\n",
      "Epoch 3000, Loss 0.7501682639122009\n",
      "Epoch 3500, Loss 0.6787611246109009\n",
      "Epoch 4000, Loss 0.625210702419281\n",
      "Epoch 4500, Loss 0.584665834903717\n",
      "Epoch 5000, Loss 0.5510385632514954\n",
      "Epoch 5500, Loss 0.5234556794166565\n",
      "Epoch 6000, Loss 0.5004644989967346\n",
      "Epoch 6500, Loss 0.4808639585971832\n",
      "Epoch 7000, Loss 0.46378910541534424\n",
      "Epoch 7500, Loss 0.4480690658092499\n",
      "Epoch 8000, Loss 0.43350812792778015\n",
      "Epoch 8500, Loss 0.4183400571346283\n",
      "Epoch 9000, Loss 0.403123140335083\n",
      "Epoch 9500, Loss 0.38767558336257935\n",
      "Epoch 10000, Loss 0.373687207698822\n",
      "Epoch 10500, Loss 0.3607006072998047\n",
      "Epoch 11000, Loss 0.34887194633483887\n",
      "Epoch 11500, Loss 0.3376239240169525\n",
      "Epoch 12000, Loss 0.3271849453449249\n",
      "Epoch 12500, Loss 0.3170713186264038\n",
      "Epoch 13000, Loss 0.3073335289955139\n",
      "Epoch 13500, Loss 0.29787325859069824\n",
      "Epoch 14000, Loss 0.28855979442596436\n",
      "Epoch 14500, Loss 0.2792116105556488\n",
      "Epoch 15000, Loss 0.27023160457611084\n",
      "Epoch 15500, Loss 0.261726975440979\n",
      "Epoch 16000, Loss 0.2537573575973511\n",
      "Epoch 16500, Loss 0.24626284837722778\n",
      "Epoch 17000, Loss 0.23918625712394714\n",
      "Epoch 17500, Loss 0.23252950608730316\n",
      "Epoch 18000, Loss 0.2262270450592041\n",
      "Epoch 18500, Loss 0.22025643289089203\n",
      "Epoch 19000, Loss 0.21461254358291626\n",
      "Epoch 19500, Loss 0.20924367010593414\n",
      "Epoch 20000, Loss 0.20414243638515472\n",
      "Epoch 20500, Loss 0.1992737501859665\n",
      "Epoch 21000, Loss 0.19466190040111542\n",
      "Epoch 21500, Loss 0.1902484893798828\n",
      "Epoch 22000, Loss 0.1860390454530716\n",
      "Epoch 22500, Loss 0.1820148080587387\n",
      "Epoch 23000, Loss 0.17814850807189941\n",
      "Epoch 23500, Loss 0.1744529753923416\n",
      "Epoch 24000, Loss 0.17091357707977295\n",
      "Epoch 24500, Loss 0.16751952469348907\n",
      "Epoch 25000, Loss 0.16425985097885132\n",
      "Epoch 25500, Loss 0.1611207127571106\n",
      "Epoch 26000, Loss 0.15809831023216248\n",
      "Epoch 26500, Loss 0.1551934778690338\n",
      "Epoch 27000, Loss 0.15239317715168\n",
      "Epoch 27500, Loss 0.14968928694725037\n",
      "Epoch 28000, Loss 0.14708590507507324\n",
      "Epoch 28500, Loss 0.1445624679327011\n",
      "Epoch 29000, Loss 0.14213305711746216\n",
      "Epoch 29500, Loss 0.1397884637117386\n",
      "Epoch 30000, Loss 0.13751278817653656\n",
      "Epoch 30500, Loss 0.13532023131847382\n",
      "Epoch 31000, Loss 0.13319343328475952\n",
      "Epoch 31500, Loss 0.1311333328485489\n",
      "Epoch 32000, Loss 0.12913523614406586\n",
      "Epoch 32500, Loss 0.12720096111297607\n",
      "Epoch 33000, Loss 0.12532302737236023\n",
      "Epoch 33500, Loss 0.12350008636713028\n",
      "Epoch 34000, Loss 0.1217285543680191\n",
      "Epoch 34500, Loss 0.1200069934129715\n",
      "Epoch 35000, Loss 0.11833417415618896\n",
      "Epoch 35500, Loss 0.1167147308588028\n",
      "Epoch 36000, Loss 0.11512912809848785\n",
      "Epoch 36500, Loss 0.11359170824289322\n",
      "Epoch 37000, Loss 0.11209520697593689\n",
      "Epoch 37500, Loss 0.11064000427722931\n",
      "Epoch 38000, Loss 0.10921994596719742\n",
      "Epoch 38500, Loss 0.10783973336219788\n",
      "Epoch 39000, Loss 0.1064932644367218\n",
      "Epoch 39500, Loss 0.10518129914999008\n",
      "Epoch 40000, Loss 0.10390034317970276\n",
      "Epoch 40500, Loss 0.10264948010444641\n",
      "Epoch 41000, Loss 0.10143059492111206\n",
      "Epoch 41500, Loss 0.10024317353963852\n",
      "Epoch 42000, Loss 0.09907805919647217\n",
      "Epoch 42500, Loss 0.09794525802135468\n",
      "Epoch 43000, Loss 0.0968371257185936\n",
      "Epoch 43500, Loss 0.09575338661670685\n",
      "Epoch 44000, Loss 0.09469522535800934\n",
      "Epoch 44500, Loss 0.09366042912006378\n",
      "Epoch 45000, Loss 0.09264817088842392\n",
      "Epoch 45500, Loss 0.09165749698877335\n",
      "Epoch 46000, Loss 0.09068993479013443\n",
      "Epoch 46500, Loss 0.08974316716194153\n",
      "Epoch 47000, Loss 0.0888155996799469\n",
      "Epoch 47500, Loss 0.08790640532970428\n",
      "Epoch 48000, Loss 0.08701647818088531\n",
      "Epoch 48500, Loss 0.08614365756511688\n",
      "Epoch 49000, Loss 0.08529186248779297\n",
      "Epoch 49500, Loss 0.0844535306096077\n"
     ]
    }
   ],
   "source": [
    "lx = 2\n",
    "nx = 20\n",
    "dx = lx / (nx-1)\n",
    "\n",
    "lt = 0.04\n",
    "nt = 4\n",
    "dt = lt / (nt-1)\n",
    "\n",
    "u = 1      #assume wavespeed of u = 1\n",
    "\n",
    "x_line = tf.linspace(0.0, lx, nx, name=\"x\")\n",
    "t_line = tf.linspace(0.0, lt, nt, name=\"t\")\n",
    "x_init = tf.identity(x_line, name=\"x_init\")\n",
    "x, t = tf.meshgrid(x_line, t_line)\n",
    "\n",
    "# sine wave init\n",
    "np_phi_init = np.ones(nx)\n",
    "sine_wave = np.linspace(0,2*np.pi, int(1.5 / dx + 1) - int(.5 / dx) )\n",
    "np_phi_init[int(.5 / dx):int(1.5 / dx + 1)] += np.sin(sine_wave)\n",
    "phi_init = tf.convert_to_tensor(np_phi_init, dtype=tf.float32, name=\"phi_init\")\n",
    "phi_init = tf.reshape(phi_init, [phi_init.shape[0],1])\n",
    "\n",
    "loss_calculator = PDE_Loss(phi_init,u)\n",
    "myModel = solve_PDE_Model(loss_calculator)\n",
    "myModel.train(x, t, 50000)\n"
   ]
  },
  {
   "cell_type": "code",
   "execution_count": 25,
   "metadata": {},
   "outputs": [
    {
     "output_type": "stream",
     "name": "stdout",
     "text": [
      "Start prediction\ntf.Tensor(\n[[ 1.0033954 ]\n [ 0.98515797]\n [ 0.963099  ]\n [ 0.9450631 ]\n [ 1.012461  ]\n [ 1.5535076 ]\n [ 1.9687326 ]\n [ 1.8913046 ]\n [ 1.5756705 ]\n [ 0.9876011 ]\n [ 0.37174857]\n [ 0.04830658]\n [ 0.02109037]\n [ 0.39104533]\n [ 0.9579196 ]\n [ 1.0010964 ]\n [ 0.9991194 ]\n [ 0.9991342 ]\n [ 1.0026171 ]\n [ 1.009156  ]\n [ 0.99211615]\n [ 0.97433233]\n [ 0.9526577 ]\n [ 0.93265086]\n [ 0.9759582 ]\n [ 1.44245   ]\n [ 1.9423457 ]\n [ 1.9005606 ]\n [ 1.6177046 ]\n [ 1.0594643 ]\n [ 0.4234723 ]\n [ 0.05813892]\n [-0.00420018]\n [ 0.286681  ]\n [ 0.92013067]\n [ 0.9874563 ]\n [ 0.9860019 ]\n [ 0.98557436]\n [ 0.9886439 ]\n [ 0.9948314 ]\n [ 0.98077977]\n [ 0.9634355 ]\n [ 0.9422015 ]\n [ 0.92090535]\n [ 0.94597304]\n [ 1.333501  ]\n [ 1.9070344 ]\n [ 1.9064324 ]\n [ 1.6549016 ]\n [ 1.1296707 ]\n [ 0.48025203]\n [ 0.07282762]\n [-0.02472879]\n [ 0.19935372]\n [ 0.87117267]\n [ 0.97332186]\n [ 0.9729242 ]\n [ 0.9720665 ]\n [ 0.9747149 ]\n [ 0.9805431 ]\n [ 0.9693912 ]\n [ 0.9524713 ]\n [ 0.931715  ]\n [ 0.90963876]\n [ 0.9210511 ]\n [ 1.2320375 ]\n [ 1.8609103 ]\n [ 1.9089272 ]\n [ 1.6874113 ]\n [ 1.1973054 ]\n [ 0.54161626]\n [ 0.09257913]\n [-0.04073857]\n [ 0.12784441]\n [ 0.80756843]\n [ 0.95841557]\n [ 0.959881  ]\n [ 0.9586165 ]\n [ 0.9608364 ]\n [ 0.96629655]], shape=(80, 1), dtype=float32)\n"
     ]
    }
   ],
   "source": [
    "result = myModel.predict(x, t)\n",
    "print(result)"
   ]
  },
  {
   "cell_type": "code",
   "execution_count": 29,
   "metadata": {},
   "outputs": [
    {
     "output_type": "display_data",
     "data": {
      "text/plain": "<Figure size 576x360 with 1 Axes>",
      "image/svg+xml": "<?xml version=\"1.0\" encoding=\"utf-8\" standalone=\"no\"?>\r\n<!DOCTYPE svg PUBLIC \"-//W3C//DTD SVG 1.1//EN\"\r\n  \"http://www.w3.org/Graphics/SVG/1.1/DTD/svg11.dtd\">\r\n<svg height=\"320.355469pt\" version=\"1.1\" viewBox=\"0 0 516.89375 320.355469\" width=\"516.89375pt\" xmlns=\"http://www.w3.org/2000/svg\" xmlns:xlink=\"http://www.w3.org/1999/xlink\">\r\n <metadata>\r\n  <rdf:RDF xmlns:cc=\"http://creativecommons.org/ns#\" xmlns:dc=\"http://purl.org/dc/elements/1.1/\" xmlns:rdf=\"http://www.w3.org/1999/02/22-rdf-syntax-ns#\">\r\n   <cc:Work>\r\n    <dc:type rdf:resource=\"http://purl.org/dc/dcmitype/StillImage\"/>\r\n    <dc:date>2021-07-12T14:49:43.198410</dc:date>\r\n    <dc:format>image/svg+xml</dc:format>\r\n    <dc:creator>\r\n     <cc:Agent>\r\n      <dc:title>Matplotlib v3.4.2, https://matplotlib.org/</dc:title>\r\n     </cc:Agent>\r\n    </dc:creator>\r\n   </cc:Work>\r\n  </rdf:RDF>\r\n </metadata>\r\n <defs>\r\n  <style type=\"text/css\">*{stroke-linecap:butt;stroke-linejoin:round;}</style>\r\n </defs>\r\n <g id=\"figure_1\">\r\n  <g id=\"patch_1\">\r\n   <path d=\"M 0 320.355469 \r\nL 516.89375 320.355469 \r\nL 516.89375 0 \r\nL 0 0 \r\nz\r\n\" style=\"fill:none;\"/>\r\n  </g>\r\n  <g id=\"axes_1\">\r\n   <g id=\"patch_2\">\r\n    <path d=\"M 52.160938 282.799219 \r\nL 498.560937 282.799219 \r\nL 498.560937 10.999219 \r\nL 52.160938 10.999219 \r\nz\r\n\" style=\"fill:#ffffff;\"/>\r\n   </g>\r\n   <g id=\"matplotlib.axis_1\">\r\n    <g id=\"xtick_1\">\r\n     <g id=\"line2d_1\">\r\n      <defs>\r\n       <path d=\"M 0 0 \r\nL 0 3.5 \r\n\" id=\"md26259e311\" style=\"stroke:#000000;stroke-width:0.8;\"/>\r\n      </defs>\r\n      <g>\r\n       <use style=\"stroke:#000000;stroke-width:0.8;\" x=\"52.160938\" xlink:href=\"#md26259e311\" y=\"282.799219\"/>\r\n      </g>\r\n     </g>\r\n     <g id=\"text_1\">\r\n      <!-- 0.00 -->\r\n      <g transform=\"translate(41.028125 297.397656)scale(0.1 -0.1)\">\r\n       <defs>\r\n        <path d=\"M 2034 4250 \r\nQ 1547 4250 1301 3770 \r\nQ 1056 3291 1056 2328 \r\nQ 1056 1369 1301 889 \r\nQ 1547 409 2034 409 \r\nQ 2525 409 2770 889 \r\nQ 3016 1369 3016 2328 \r\nQ 3016 3291 2770 3770 \r\nQ 2525 4250 2034 4250 \r\nz\r\nM 2034 4750 \r\nQ 2819 4750 3233 4129 \r\nQ 3647 3509 3647 2328 \r\nQ 3647 1150 3233 529 \r\nQ 2819 -91 2034 -91 \r\nQ 1250 -91 836 529 \r\nQ 422 1150 422 2328 \r\nQ 422 3509 836 4129 \r\nQ 1250 4750 2034 4750 \r\nz\r\n\" id=\"DejaVuSans-30\" transform=\"scale(0.015625)\"/>\r\n        <path d=\"M 684 794 \r\nL 1344 794 \r\nL 1344 0 \r\nL 684 0 \r\nL 684 794 \r\nz\r\n\" id=\"DejaVuSans-2e\" transform=\"scale(0.015625)\"/>\r\n       </defs>\r\n       <use xlink:href=\"#DejaVuSans-30\"/>\r\n       <use x=\"63.623047\" xlink:href=\"#DejaVuSans-2e\"/>\r\n       <use x=\"95.410156\" xlink:href=\"#DejaVuSans-30\"/>\r\n       <use x=\"159.033203\" xlink:href=\"#DejaVuSans-30\"/>\r\n      </g>\r\n     </g>\r\n    </g>\r\n    <g id=\"xtick_2\">\r\n     <g id=\"line2d_2\">\r\n      <g>\r\n       <use style=\"stroke:#000000;stroke-width:0.8;\" x=\"107.960938\" xlink:href=\"#md26259e311\" y=\"282.799219\"/>\r\n      </g>\r\n     </g>\r\n     <g id=\"text_2\">\r\n      <!-- 0.25 -->\r\n      <g transform=\"translate(96.828125 297.397656)scale(0.1 -0.1)\">\r\n       <defs>\r\n        <path d=\"M 1228 531 \r\nL 3431 531 \r\nL 3431 0 \r\nL 469 0 \r\nL 469 531 \r\nQ 828 903 1448 1529 \r\nQ 2069 2156 2228 2338 \r\nQ 2531 2678 2651 2914 \r\nQ 2772 3150 2772 3378 \r\nQ 2772 3750 2511 3984 \r\nQ 2250 4219 1831 4219 \r\nQ 1534 4219 1204 4116 \r\nQ 875 4013 500 3803 \r\nL 500 4441 \r\nQ 881 4594 1212 4672 \r\nQ 1544 4750 1819 4750 \r\nQ 2544 4750 2975 4387 \r\nQ 3406 4025 3406 3419 \r\nQ 3406 3131 3298 2873 \r\nQ 3191 2616 2906 2266 \r\nQ 2828 2175 2409 1742 \r\nQ 1991 1309 1228 531 \r\nz\r\n\" id=\"DejaVuSans-32\" transform=\"scale(0.015625)\"/>\r\n        <path d=\"M 691 4666 \r\nL 3169 4666 \r\nL 3169 4134 \r\nL 1269 4134 \r\nL 1269 2991 \r\nQ 1406 3038 1543 3061 \r\nQ 1681 3084 1819 3084 \r\nQ 2600 3084 3056 2656 \r\nQ 3513 2228 3513 1497 \r\nQ 3513 744 3044 326 \r\nQ 2575 -91 1722 -91 \r\nQ 1428 -91 1123 -41 \r\nQ 819 9 494 109 \r\nL 494 744 \r\nQ 775 591 1075 516 \r\nQ 1375 441 1709 441 \r\nQ 2250 441 2565 725 \r\nQ 2881 1009 2881 1497 \r\nQ 2881 1984 2565 2268 \r\nQ 2250 2553 1709 2553 \r\nQ 1456 2553 1204 2497 \r\nQ 953 2441 691 2322 \r\nL 691 4666 \r\nz\r\n\" id=\"DejaVuSans-35\" transform=\"scale(0.015625)\"/>\r\n       </defs>\r\n       <use xlink:href=\"#DejaVuSans-30\"/>\r\n       <use x=\"63.623047\" xlink:href=\"#DejaVuSans-2e\"/>\r\n       <use x=\"95.410156\" xlink:href=\"#DejaVuSans-32\"/>\r\n       <use x=\"159.033203\" xlink:href=\"#DejaVuSans-35\"/>\r\n      </g>\r\n     </g>\r\n    </g>\r\n    <g id=\"xtick_3\">\r\n     <g id=\"line2d_3\">\r\n      <g>\r\n       <use style=\"stroke:#000000;stroke-width:0.8;\" x=\"163.760938\" xlink:href=\"#md26259e311\" y=\"282.799219\"/>\r\n      </g>\r\n     </g>\r\n     <g id=\"text_3\">\r\n      <!-- 0.50 -->\r\n      <g transform=\"translate(152.628125 297.397656)scale(0.1 -0.1)\">\r\n       <use xlink:href=\"#DejaVuSans-30\"/>\r\n       <use x=\"63.623047\" xlink:href=\"#DejaVuSans-2e\"/>\r\n       <use x=\"95.410156\" xlink:href=\"#DejaVuSans-35\"/>\r\n       <use x=\"159.033203\" xlink:href=\"#DejaVuSans-30\"/>\r\n      </g>\r\n     </g>\r\n    </g>\r\n    <g id=\"xtick_4\">\r\n     <g id=\"line2d_4\">\r\n      <g>\r\n       <use style=\"stroke:#000000;stroke-width:0.8;\" x=\"219.560937\" xlink:href=\"#md26259e311\" y=\"282.799219\"/>\r\n      </g>\r\n     </g>\r\n     <g id=\"text_4\">\r\n      <!-- 0.75 -->\r\n      <g transform=\"translate(208.428125 297.397656)scale(0.1 -0.1)\">\r\n       <defs>\r\n        <path d=\"M 525 4666 \r\nL 3525 4666 \r\nL 3525 4397 \r\nL 1831 0 \r\nL 1172 0 \r\nL 2766 4134 \r\nL 525 4134 \r\nL 525 4666 \r\nz\r\n\" id=\"DejaVuSans-37\" transform=\"scale(0.015625)\"/>\r\n       </defs>\r\n       <use xlink:href=\"#DejaVuSans-30\"/>\r\n       <use x=\"63.623047\" xlink:href=\"#DejaVuSans-2e\"/>\r\n       <use x=\"95.410156\" xlink:href=\"#DejaVuSans-37\"/>\r\n       <use x=\"159.033203\" xlink:href=\"#DejaVuSans-35\"/>\r\n      </g>\r\n     </g>\r\n    </g>\r\n    <g id=\"xtick_5\">\r\n     <g id=\"line2d_5\">\r\n      <g>\r\n       <use style=\"stroke:#000000;stroke-width:0.8;\" x=\"275.360937\" xlink:href=\"#md26259e311\" y=\"282.799219\"/>\r\n      </g>\r\n     </g>\r\n     <g id=\"text_5\">\r\n      <!-- 1.00 -->\r\n      <g transform=\"translate(264.228125 297.397656)scale(0.1 -0.1)\">\r\n       <defs>\r\n        <path d=\"M 794 531 \r\nL 1825 531 \r\nL 1825 4091 \r\nL 703 3866 \r\nL 703 4441 \r\nL 1819 4666 \r\nL 2450 4666 \r\nL 2450 531 \r\nL 3481 531 \r\nL 3481 0 \r\nL 794 0 \r\nL 794 531 \r\nz\r\n\" id=\"DejaVuSans-31\" transform=\"scale(0.015625)\"/>\r\n       </defs>\r\n       <use xlink:href=\"#DejaVuSans-31\"/>\r\n       <use x=\"63.623047\" xlink:href=\"#DejaVuSans-2e\"/>\r\n       <use x=\"95.410156\" xlink:href=\"#DejaVuSans-30\"/>\r\n       <use x=\"159.033203\" xlink:href=\"#DejaVuSans-30\"/>\r\n      </g>\r\n     </g>\r\n    </g>\r\n    <g id=\"xtick_6\">\r\n     <g id=\"line2d_6\">\r\n      <g>\r\n       <use style=\"stroke:#000000;stroke-width:0.8;\" x=\"331.160937\" xlink:href=\"#md26259e311\" y=\"282.799219\"/>\r\n      </g>\r\n     </g>\r\n     <g id=\"text_6\">\r\n      <!-- 1.25 -->\r\n      <g transform=\"translate(320.028125 297.397656)scale(0.1 -0.1)\">\r\n       <use xlink:href=\"#DejaVuSans-31\"/>\r\n       <use x=\"63.623047\" xlink:href=\"#DejaVuSans-2e\"/>\r\n       <use x=\"95.410156\" xlink:href=\"#DejaVuSans-32\"/>\r\n       <use x=\"159.033203\" xlink:href=\"#DejaVuSans-35\"/>\r\n      </g>\r\n     </g>\r\n    </g>\r\n    <g id=\"xtick_7\">\r\n     <g id=\"line2d_7\">\r\n      <g>\r\n       <use style=\"stroke:#000000;stroke-width:0.8;\" x=\"386.960937\" xlink:href=\"#md26259e311\" y=\"282.799219\"/>\r\n      </g>\r\n     </g>\r\n     <g id=\"text_7\">\r\n      <!-- 1.50 -->\r\n      <g transform=\"translate(375.828125 297.397656)scale(0.1 -0.1)\">\r\n       <use xlink:href=\"#DejaVuSans-31\"/>\r\n       <use x=\"63.623047\" xlink:href=\"#DejaVuSans-2e\"/>\r\n       <use x=\"95.410156\" xlink:href=\"#DejaVuSans-35\"/>\r\n       <use x=\"159.033203\" xlink:href=\"#DejaVuSans-30\"/>\r\n      </g>\r\n     </g>\r\n    </g>\r\n    <g id=\"xtick_8\">\r\n     <g id=\"line2d_8\">\r\n      <g>\r\n       <use style=\"stroke:#000000;stroke-width:0.8;\" x=\"442.760937\" xlink:href=\"#md26259e311\" y=\"282.799219\"/>\r\n      </g>\r\n     </g>\r\n     <g id=\"text_8\">\r\n      <!-- 1.75 -->\r\n      <g transform=\"translate(431.628125 297.397656)scale(0.1 -0.1)\">\r\n       <use xlink:href=\"#DejaVuSans-31\"/>\r\n       <use x=\"63.623047\" xlink:href=\"#DejaVuSans-2e\"/>\r\n       <use x=\"95.410156\" xlink:href=\"#DejaVuSans-37\"/>\r\n       <use x=\"159.033203\" xlink:href=\"#DejaVuSans-35\"/>\r\n      </g>\r\n     </g>\r\n    </g>\r\n    <g id=\"xtick_9\">\r\n     <g id=\"line2d_9\">\r\n      <g>\r\n       <use style=\"stroke:#000000;stroke-width:0.8;\" x=\"498.560937\" xlink:href=\"#md26259e311\" y=\"282.799219\"/>\r\n      </g>\r\n     </g>\r\n     <g id=\"text_9\">\r\n      <!-- 2.00 -->\r\n      <g transform=\"translate(487.428125 297.397656)scale(0.1 -0.1)\">\r\n       <use xlink:href=\"#DejaVuSans-32\"/>\r\n       <use x=\"63.623047\" xlink:href=\"#DejaVuSans-2e\"/>\r\n       <use x=\"95.410156\" xlink:href=\"#DejaVuSans-30\"/>\r\n       <use x=\"159.033203\" xlink:href=\"#DejaVuSans-30\"/>\r\n      </g>\r\n     </g>\r\n    </g>\r\n    <g id=\"text_10\">\r\n     <!-- Domain -->\r\n     <g transform=\"translate(255.959375 311.075781)scale(0.1 -0.1)\">\r\n      <defs>\r\n       <path d=\"M 1259 4147 \r\nL 1259 519 \r\nL 2022 519 \r\nQ 2988 519 3436 956 \r\nQ 3884 1394 3884 2338 \r\nQ 3884 3275 3436 3711 \r\nQ 2988 4147 2022 4147 \r\nL 1259 4147 \r\nz\r\nM 628 4666 \r\nL 1925 4666 \r\nQ 3281 4666 3915 4102 \r\nQ 4550 3538 4550 2338 \r\nQ 4550 1131 3912 565 \r\nQ 3275 0 1925 0 \r\nL 628 0 \r\nL 628 4666 \r\nz\r\n\" id=\"DejaVuSans-44\" transform=\"scale(0.015625)\"/>\r\n       <path d=\"M 1959 3097 \r\nQ 1497 3097 1228 2736 \r\nQ 959 2375 959 1747 \r\nQ 959 1119 1226 758 \r\nQ 1494 397 1959 397 \r\nQ 2419 397 2687 759 \r\nQ 2956 1122 2956 1747 \r\nQ 2956 2369 2687 2733 \r\nQ 2419 3097 1959 3097 \r\nz\r\nM 1959 3584 \r\nQ 2709 3584 3137 3096 \r\nQ 3566 2609 3566 1747 \r\nQ 3566 888 3137 398 \r\nQ 2709 -91 1959 -91 \r\nQ 1206 -91 779 398 \r\nQ 353 888 353 1747 \r\nQ 353 2609 779 3096 \r\nQ 1206 3584 1959 3584 \r\nz\r\n\" id=\"DejaVuSans-6f\" transform=\"scale(0.015625)\"/>\r\n       <path d=\"M 3328 2828 \r\nQ 3544 3216 3844 3400 \r\nQ 4144 3584 4550 3584 \r\nQ 5097 3584 5394 3201 \r\nQ 5691 2819 5691 2113 \r\nL 5691 0 \r\nL 5113 0 \r\nL 5113 2094 \r\nQ 5113 2597 4934 2840 \r\nQ 4756 3084 4391 3084 \r\nQ 3944 3084 3684 2787 \r\nQ 3425 2491 3425 1978 \r\nL 3425 0 \r\nL 2847 0 \r\nL 2847 2094 \r\nQ 2847 2600 2669 2842 \r\nQ 2491 3084 2119 3084 \r\nQ 1678 3084 1418 2786 \r\nQ 1159 2488 1159 1978 \r\nL 1159 0 \r\nL 581 0 \r\nL 581 3500 \r\nL 1159 3500 \r\nL 1159 2956 \r\nQ 1356 3278 1631 3431 \r\nQ 1906 3584 2284 3584 \r\nQ 2666 3584 2933 3390 \r\nQ 3200 3197 3328 2828 \r\nz\r\n\" id=\"DejaVuSans-6d\" transform=\"scale(0.015625)\"/>\r\n       <path d=\"M 2194 1759 \r\nQ 1497 1759 1228 1600 \r\nQ 959 1441 959 1056 \r\nQ 959 750 1161 570 \r\nQ 1363 391 1709 391 \r\nQ 2188 391 2477 730 \r\nQ 2766 1069 2766 1631 \r\nL 2766 1759 \r\nL 2194 1759 \r\nz\r\nM 3341 1997 \r\nL 3341 0 \r\nL 2766 0 \r\nL 2766 531 \r\nQ 2569 213 2275 61 \r\nQ 1981 -91 1556 -91 \r\nQ 1019 -91 701 211 \r\nQ 384 513 384 1019 \r\nQ 384 1609 779 1909 \r\nQ 1175 2209 1959 2209 \r\nL 2766 2209 \r\nL 2766 2266 \r\nQ 2766 2663 2505 2880 \r\nQ 2244 3097 1772 3097 \r\nQ 1472 3097 1187 3025 \r\nQ 903 2953 641 2809 \r\nL 641 3341 \r\nQ 956 3463 1253 3523 \r\nQ 1550 3584 1831 3584 \r\nQ 2591 3584 2966 3190 \r\nQ 3341 2797 3341 1997 \r\nz\r\n\" id=\"DejaVuSans-61\" transform=\"scale(0.015625)\"/>\r\n       <path d=\"M 603 3500 \r\nL 1178 3500 \r\nL 1178 0 \r\nL 603 0 \r\nL 603 3500 \r\nz\r\nM 603 4863 \r\nL 1178 4863 \r\nL 1178 4134 \r\nL 603 4134 \r\nL 603 4863 \r\nz\r\n\" id=\"DejaVuSans-69\" transform=\"scale(0.015625)\"/>\r\n       <path d=\"M 3513 2113 \r\nL 3513 0 \r\nL 2938 0 \r\nL 2938 2094 \r\nQ 2938 2591 2744 2837 \r\nQ 2550 3084 2163 3084 \r\nQ 1697 3084 1428 2787 \r\nQ 1159 2491 1159 1978 \r\nL 1159 0 \r\nL 581 0 \r\nL 581 3500 \r\nL 1159 3500 \r\nL 1159 2956 \r\nQ 1366 3272 1645 3428 \r\nQ 1925 3584 2291 3584 \r\nQ 2894 3584 3203 3211 \r\nQ 3513 2838 3513 2113 \r\nz\r\n\" id=\"DejaVuSans-6e\" transform=\"scale(0.015625)\"/>\r\n      </defs>\r\n      <use xlink:href=\"#DejaVuSans-44\"/>\r\n      <use x=\"77.001953\" xlink:href=\"#DejaVuSans-6f\"/>\r\n      <use x=\"138.183594\" xlink:href=\"#DejaVuSans-6d\"/>\r\n      <use x=\"235.595703\" xlink:href=\"#DejaVuSans-61\"/>\r\n      <use x=\"296.875\" xlink:href=\"#DejaVuSans-69\"/>\r\n      <use x=\"324.658203\" xlink:href=\"#DejaVuSans-6e\"/>\r\n     </g>\r\n    </g>\r\n   </g>\r\n   <g id=\"matplotlib.axis_2\">\r\n    <g id=\"ytick_1\">\r\n     <g id=\"line2d_10\">\r\n      <defs>\r\n       <path d=\"M 0 0 \r\nL -3.5 0 \r\n\" id=\"m7a2db723d5\" style=\"stroke:#000000;stroke-width:0.8;\"/>\r\n      </defs>\r\n      <g>\r\n       <use style=\"stroke:#000000;stroke-width:0.8;\" x=\"52.160938\" xlink:href=\"#m7a2db723d5\" y=\"282.799219\"/>\r\n      </g>\r\n     </g>\r\n     <g id=\"text_11\">\r\n      <!-- −1.0 -->\r\n      <g transform=\"translate(20.878125 286.598437)scale(0.1 -0.1)\">\r\n       <defs>\r\n        <path d=\"M 678 2272 \r\nL 4684 2272 \r\nL 4684 1741 \r\nL 678 1741 \r\nL 678 2272 \r\nz\r\n\" id=\"DejaVuSans-2212\" transform=\"scale(0.015625)\"/>\r\n       </defs>\r\n       <use xlink:href=\"#DejaVuSans-2212\"/>\r\n       <use x=\"83.789062\" xlink:href=\"#DejaVuSans-31\"/>\r\n       <use x=\"147.412109\" xlink:href=\"#DejaVuSans-2e\"/>\r\n       <use x=\"179.199219\" xlink:href=\"#DejaVuSans-30\"/>\r\n      </g>\r\n     </g>\r\n    </g>\r\n    <g id=\"ytick_2\">\r\n     <g id=\"line2d_11\">\r\n      <g>\r\n       <use style=\"stroke:#000000;stroke-width:0.8;\" x=\"52.160938\" xlink:href=\"#m7a2db723d5\" y=\"248.824219\"/>\r\n      </g>\r\n     </g>\r\n     <g id=\"text_12\">\r\n      <!-- −0.5 -->\r\n      <g transform=\"translate(20.878125 252.623437)scale(0.1 -0.1)\">\r\n       <use xlink:href=\"#DejaVuSans-2212\"/>\r\n       <use x=\"83.789062\" xlink:href=\"#DejaVuSans-30\"/>\r\n       <use x=\"147.412109\" xlink:href=\"#DejaVuSans-2e\"/>\r\n       <use x=\"179.199219\" xlink:href=\"#DejaVuSans-35\"/>\r\n      </g>\r\n     </g>\r\n    </g>\r\n    <g id=\"ytick_3\">\r\n     <g id=\"line2d_12\">\r\n      <g>\r\n       <use style=\"stroke:#000000;stroke-width:0.8;\" x=\"52.160938\" xlink:href=\"#m7a2db723d5\" y=\"214.849219\"/>\r\n      </g>\r\n     </g>\r\n     <g id=\"text_13\">\r\n      <!-- 0.0 -->\r\n      <g transform=\"translate(29.257812 218.648437)scale(0.1 -0.1)\">\r\n       <use xlink:href=\"#DejaVuSans-30\"/>\r\n       <use x=\"63.623047\" xlink:href=\"#DejaVuSans-2e\"/>\r\n       <use x=\"95.410156\" xlink:href=\"#DejaVuSans-30\"/>\r\n      </g>\r\n     </g>\r\n    </g>\r\n    <g id=\"ytick_4\">\r\n     <g id=\"line2d_13\">\r\n      <g>\r\n       <use style=\"stroke:#000000;stroke-width:0.8;\" x=\"52.160938\" xlink:href=\"#m7a2db723d5\" y=\"180.874219\"/>\r\n      </g>\r\n     </g>\r\n     <g id=\"text_14\">\r\n      <!-- 0.5 -->\r\n      <g transform=\"translate(29.257812 184.673437)scale(0.1 -0.1)\">\r\n       <use xlink:href=\"#DejaVuSans-30\"/>\r\n       <use x=\"63.623047\" xlink:href=\"#DejaVuSans-2e\"/>\r\n       <use x=\"95.410156\" xlink:href=\"#DejaVuSans-35\"/>\r\n      </g>\r\n     </g>\r\n    </g>\r\n    <g id=\"ytick_5\">\r\n     <g id=\"line2d_14\">\r\n      <g>\r\n       <use style=\"stroke:#000000;stroke-width:0.8;\" x=\"52.160938\" xlink:href=\"#m7a2db723d5\" y=\"146.899219\"/>\r\n      </g>\r\n     </g>\r\n     <g id=\"text_15\">\r\n      <!-- 1.0 -->\r\n      <g transform=\"translate(29.257812 150.698437)scale(0.1 -0.1)\">\r\n       <use xlink:href=\"#DejaVuSans-31\"/>\r\n       <use x=\"63.623047\" xlink:href=\"#DejaVuSans-2e\"/>\r\n       <use x=\"95.410156\" xlink:href=\"#DejaVuSans-30\"/>\r\n      </g>\r\n     </g>\r\n    </g>\r\n    <g id=\"ytick_6\">\r\n     <g id=\"line2d_15\">\r\n      <g>\r\n       <use style=\"stroke:#000000;stroke-width:0.8;\" x=\"52.160938\" xlink:href=\"#m7a2db723d5\" y=\"112.924219\"/>\r\n      </g>\r\n     </g>\r\n     <g id=\"text_16\">\r\n      <!-- 1.5 -->\r\n      <g transform=\"translate(29.257812 116.723437)scale(0.1 -0.1)\">\r\n       <use xlink:href=\"#DejaVuSans-31\"/>\r\n       <use x=\"63.623047\" xlink:href=\"#DejaVuSans-2e\"/>\r\n       <use x=\"95.410156\" xlink:href=\"#DejaVuSans-35\"/>\r\n      </g>\r\n     </g>\r\n    </g>\r\n    <g id=\"ytick_7\">\r\n     <g id=\"line2d_16\">\r\n      <g>\r\n       <use style=\"stroke:#000000;stroke-width:0.8;\" x=\"52.160938\" xlink:href=\"#m7a2db723d5\" y=\"78.949219\"/>\r\n      </g>\r\n     </g>\r\n     <g id=\"text_17\">\r\n      <!-- 2.0 -->\r\n      <g transform=\"translate(29.257812 82.748437)scale(0.1 -0.1)\">\r\n       <use xlink:href=\"#DejaVuSans-32\"/>\r\n       <use x=\"63.623047\" xlink:href=\"#DejaVuSans-2e\"/>\r\n       <use x=\"95.410156\" xlink:href=\"#DejaVuSans-30\"/>\r\n      </g>\r\n     </g>\r\n    </g>\r\n    <g id=\"ytick_8\">\r\n     <g id=\"line2d_17\">\r\n      <g>\r\n       <use style=\"stroke:#000000;stroke-width:0.8;\" x=\"52.160938\" xlink:href=\"#m7a2db723d5\" y=\"44.974219\"/>\r\n      </g>\r\n     </g>\r\n     <g id=\"text_18\">\r\n      <!-- 2.5 -->\r\n      <g transform=\"translate(29.257812 48.773438)scale(0.1 -0.1)\">\r\n       <use xlink:href=\"#DejaVuSans-32\"/>\r\n       <use x=\"63.623047\" xlink:href=\"#DejaVuSans-2e\"/>\r\n       <use x=\"95.410156\" xlink:href=\"#DejaVuSans-35\"/>\r\n      </g>\r\n     </g>\r\n    </g>\r\n    <g id=\"ytick_9\">\r\n     <g id=\"line2d_18\">\r\n      <g>\r\n       <use style=\"stroke:#000000;stroke-width:0.8;\" x=\"52.160938\" xlink:href=\"#m7a2db723d5\" y=\"10.999219\"/>\r\n      </g>\r\n     </g>\r\n     <g id=\"text_19\">\r\n      <!-- 3.0 -->\r\n      <g transform=\"translate(29.257812 14.798438)scale(0.1 -0.1)\">\r\n       <defs>\r\n        <path d=\"M 2597 2516 \r\nQ 3050 2419 3304 2112 \r\nQ 3559 1806 3559 1356 \r\nQ 3559 666 3084 287 \r\nQ 2609 -91 1734 -91 \r\nQ 1441 -91 1130 -33 \r\nQ 819 25 488 141 \r\nL 488 750 \r\nQ 750 597 1062 519 \r\nQ 1375 441 1716 441 \r\nQ 2309 441 2620 675 \r\nQ 2931 909 2931 1356 \r\nQ 2931 1769 2642 2001 \r\nQ 2353 2234 1838 2234 \r\nL 1294 2234 \r\nL 1294 2753 \r\nL 1863 2753 \r\nQ 2328 2753 2575 2939 \r\nQ 2822 3125 2822 3475 \r\nQ 2822 3834 2567 4026 \r\nQ 2313 4219 1838 4219 \r\nQ 1578 4219 1281 4162 \r\nQ 984 4106 628 3988 \r\nL 628 4550 \r\nQ 988 4650 1302 4700 \r\nQ 1616 4750 1894 4750 \r\nQ 2613 4750 3031 4423 \r\nQ 3450 4097 3450 3541 \r\nQ 3450 3153 3228 2886 \r\nQ 3006 2619 2597 2516 \r\nz\r\n\" id=\"DejaVuSans-33\" transform=\"scale(0.015625)\"/>\r\n       </defs>\r\n       <use xlink:href=\"#DejaVuSans-33\"/>\r\n       <use x=\"63.623047\" xlink:href=\"#DejaVuSans-2e\"/>\r\n       <use x=\"95.410156\" xlink:href=\"#DejaVuSans-30\"/>\r\n      </g>\r\n     </g>\r\n    </g>\r\n    <g id=\"text_20\">\r\n     <!-- Phi -->\r\n     <g transform=\"translate(14.798438 154.471875)rotate(-90)scale(0.1 -0.1)\">\r\n      <defs>\r\n       <path d=\"M 1259 4147 \r\nL 1259 2394 \r\nL 2053 2394 \r\nQ 2494 2394 2734 2622 \r\nQ 2975 2850 2975 3272 \r\nQ 2975 3691 2734 3919 \r\nQ 2494 4147 2053 4147 \r\nL 1259 4147 \r\nz\r\nM 628 4666 \r\nL 2053 4666 \r\nQ 2838 4666 3239 4311 \r\nQ 3641 3956 3641 3272 \r\nQ 3641 2581 3239 2228 \r\nQ 2838 1875 2053 1875 \r\nL 1259 1875 \r\nL 1259 0 \r\nL 628 0 \r\nL 628 4666 \r\nz\r\n\" id=\"DejaVuSans-50\" transform=\"scale(0.015625)\"/>\r\n       <path d=\"M 3513 2113 \r\nL 3513 0 \r\nL 2938 0 \r\nL 2938 2094 \r\nQ 2938 2591 2744 2837 \r\nQ 2550 3084 2163 3084 \r\nQ 1697 3084 1428 2787 \r\nQ 1159 2491 1159 1978 \r\nL 1159 0 \r\nL 581 0 \r\nL 581 4863 \r\nL 1159 4863 \r\nL 1159 2956 \r\nQ 1366 3272 1645 3428 \r\nQ 1925 3584 2291 3584 \r\nQ 2894 3584 3203 3211 \r\nQ 3513 2838 3513 2113 \r\nz\r\n\" id=\"DejaVuSans-68\" transform=\"scale(0.015625)\"/>\r\n      </defs>\r\n      <use xlink:href=\"#DejaVuSans-50\"/>\r\n      <use x=\"60.302734\" xlink:href=\"#DejaVuSans-68\"/>\r\n      <use x=\"123.681641\" xlink:href=\"#DejaVuSans-69\"/>\r\n     </g>\r\n    </g>\r\n   </g>\r\n   <g id=\"line2d_19\">\r\n    <path clip-path=\"url(#p18ebf102e2)\" d=\"M 52.160938 146.899219 \r\nL 75.655675 146.899219 \r\nL 99.150412 146.899219 \r\nL 122.645145 146.899219 \r\nL 146.139886 146.899219 \r\nL 169.634626 106.959211 \r\nL 193.129353 82.274931 \r\nL 216.624093 82.274931 \r\nL 240.118834 106.959211 \r\nL 263.613574 146.899219 \r\nL 287.108314 186.839226 \r\nL 310.603041 211.523509 \r\nL 334.097768 211.523509 \r\nL 357.592522 186.839226 \r\nL 381.087249 146.899219 \r\nL 404.582003 146.899219 \r\nL 428.07673 146.899219 \r\nL 451.571457 146.899219 \r\nL 475.06621 146.899219 \r\nL 498.560937 146.899219 \r\n\" style=\"fill:none;stroke:#808080;stroke-linecap:square;stroke-width:2;\"/>\r\n   </g>\r\n   <g id=\"line2d_20\">\r\n    <path clip-path=\"url(#p18ebf102e2)\" d=\"M 61.088937 146.899219 \r\nL 84.583676 146.899219 \r\nL 108.07841 146.899219 \r\nL 131.573143 146.899219 \r\nL 155.067884 146.899219 \r\nL 178.562631 106.959211 \r\nL 202.057358 82.274931 \r\nL 225.552098 82.274931 \r\nL 249.046838 106.959211 \r\nL 272.541579 146.899219 \r\nL 296.036306 186.839226 \r\nL 319.531033 211.523509 \r\nL 343.02576 211.523509 \r\nL 366.520514 186.839226 \r\nL 390.015241 146.899219 \r\nL 413.509994 146.899219 \r\nL 437.004721 146.899219 \r\nL 460.499448 146.899219 \r\nL 483.994202 146.899219 \r\nL 507.488929 146.899219 \r\n\" style=\"fill:none;stroke:#0000ff;stroke-linecap:square;stroke-width:2;\"/>\r\n   </g>\r\n   <g id=\"line2d_21\">\r\n    <path clip-path=\"url(#p18ebf102e2)\" d=\"M 52.160938 148.979085 \r\nL 75.655675 150.128793 \r\nL 99.150412 151.539184 \r\nL 122.645145 153.039265 \r\nL 146.139886 152.263798 \r\nL 169.634626 131.132268 \r\nL 193.129353 88.400364 \r\nL 216.624093 85.137615 \r\nL 240.118834 100.18962 \r\nL 263.613574 133.492314 \r\nL 287.108314 178.046394 \r\nL 310.603041 208.558467 \r\nL 334.097768 217.617404 \r\nL 357.592522 206.162191 \r\nL 381.087249 159.974944 \r\nL 404.582003 149.724881 \r\nL 428.07673 149.625304 \r\nL 451.571457 149.711228 \r\nL 475.06621 149.560385 \r\nL 498.560937 149.189368 \r\n\" style=\"fill:none;stroke:#ff0000;stroke-dasharray:12.8,3.2,2,3.2;stroke-dashoffset:0;stroke-width:2;\"/>\r\n   </g>\r\n   <g id=\"patch_3\">\r\n    <path d=\"M 52.160938 282.799219 \r\nL 52.160938 10.999219 \r\n\" style=\"fill:none;stroke:#000000;stroke-linecap:square;stroke-linejoin:miter;stroke-width:0.8;\"/>\r\n   </g>\r\n   <g id=\"patch_4\">\r\n    <path d=\"M 498.560937 282.799219 \r\nL 498.560937 10.999219 \r\n\" style=\"fill:none;stroke:#000000;stroke-linecap:square;stroke-linejoin:miter;stroke-width:0.8;\"/>\r\n   </g>\r\n   <g id=\"patch_5\">\r\n    <path d=\"M 52.160938 282.799219 \r\nL 498.560937 282.799219 \r\n\" style=\"fill:none;stroke:#000000;stroke-linecap:square;stroke-linejoin:miter;stroke-width:0.8;\"/>\r\n   </g>\r\n   <g id=\"patch_6\">\r\n    <path d=\"M 52.160938 10.999219 \r\nL 498.560937 10.999219 \r\n\" style=\"fill:none;stroke:#000000;stroke-linecap:square;stroke-linejoin:miter;stroke-width:0.8;\"/>\r\n   </g>\r\n  </g>\r\n </g>\r\n <defs>\r\n  <clipPath id=\"p18ebf102e2\">\r\n   <rect height=\"271.8\" width=\"446.4\" x=\"52.160938\" y=\"10.999219\"/>\r\n  </clipPath>\r\n </defs>\r\n</svg>\r\n",
      "image/png": "[encoded data removed]"
     },
     "metadata": {
      "needs_background": "light"
     }
    }
   ],
   "source": [
    "import matplotlib.pyplot as plt\n",
    "\n",
    "%matplotlib inline\n",
    "\n",
    "# create a figure and axes\n",
    "fig = plt.figure(figsize=(8,5))\n",
    "ax1 = plt.subplot(1,1,1)   \n",
    "\n",
    "# set up the subplots as needed\n",
    "ax1.set_xlim((0, 2))            \n",
    "ax1.set_ylim((-1, 3))\n",
    "ax1.set_xlabel('Domain')\n",
    "ax1.set_ylabel('Phi')\n",
    "\n",
    "# create objects that will change in the animation. These are\n",
    "# initially empty, and will be given new values for each frame\n",
    "# in the animation.\n",
    "n=3\n",
    "txt_title = ax1.set_title('')\n",
    "line1, = ax1.plot(tf.reshape(x_line, [-1]), phi_init, 'gray', lw=2)\n",
    "line1, = ax1.plot(tf.reshape(x_line, [-1])+dt*n*u, phi_init, 'b', lw=2)\n",
    "line2, = ax1.plot(tf.reshape(x_line, [-1]), result[n*nx:(n+1)*nx], 'r-.', lw=2)\n",
    "# ax1.legend(['init','result'])"
   ]
  },
  {
   "cell_type": "code",
   "execution_count": null,
   "metadata": {},
   "outputs": [],
   "source": []
  }
 ],
 "metadata": {
  "kernelspec": {
   "name": "python3",
   "display_name": "Python 3.7.5 64-bit ('tensorflow2_env': venv)"
  },
  "language_info": {
   "codemirror_mode": {
    "name": "ipython",
    "version": 3
   },
   "file_extension": ".py",
   "mimetype": "text/x-python",
   "name": "python",
   "nbconvert_exporter": "python",
   "pygments_lexer": "ipython3",
   "version": "3.7.5"
  },
  "interpreter": {
   "hash": "c0ea33c3d263439d946f12d944667e7eb07bf75d75a904b8c48a946582f9acf5"
  }
 },
 "nbformat": 4,
 "nbformat_minor": 4
}