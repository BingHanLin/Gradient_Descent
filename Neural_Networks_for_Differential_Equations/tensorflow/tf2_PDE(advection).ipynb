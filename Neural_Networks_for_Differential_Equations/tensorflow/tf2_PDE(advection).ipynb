{
 "cells": [
  {
   "cell_type": "markdown",
   "metadata": {},
   "source": [
    "Ref: \n",
    "https://www.tensorflow.org/guide/keras/custom_layers_and_models\n",
    "https://www.tensorflow.org/guide/keras/customizing_what_happens_in_fit\n",
    "\n",
    "https://tf.wiki/zh_hant/preface.html\n",
    "\n",
    "https://github.com/maziarraissi/PINNs\n",
    "\n",
    "https://www.google.com/search?q=advection+equation+1d+example&sxsrf=ALeKk004lhshcbdtG-6AuVFvY3ho_AK6kw:1607219788227&source=lnms&tbm=isch&sa=X&ved=2ahUKEwibkLakoLjtAhWNyIsBHQE3CTQQ_AUoAXoECAUQAw&biw=1055&bih=833"
   ]
  },
  {
   "cell_type": "markdown",
   "metadata": {},
   "source": [
    "## The PDE example"
   ]
  },
  {
   "cell_type": "markdown",
   "metadata": {
    "colab_type": "text",
    "id": "J6eLaCMr_Hnm"
   },
   "source": [
    "The PDE equation is:\n",
    "\n",
    "$$\\frac{\\partial \\phi}{\\partial t}=-u\\frac{\\partial \\phi}{\\partial x}$$"
   ]
  },
  {
   "cell_type": "markdown",
   "metadata": {},
   "source": [
    "With the initial value:\n",
    "$$\\phi_0 = \\phi(x,0)$$"
   ]
  },
  {
   "cell_type": "code",
   "execution_count": 348,
   "metadata": {},
   "outputs": [
    {
     "name": "stdout",
     "output_type": "stream",
     "text": [
      "2.3.1\n"
     ]
    }
   ],
   "source": [
    "# TensorFlow and tf.keras\n",
    "import tensorflow as tf\n",
    "\n",
    "# Helper libraries\n",
    "import numpy as np\n",
    "import matplotlib.pyplot as plt\n",
    "import time\n",
    "\n",
    "print(tf.__version__)"
   ]
  },
  {
   "cell_type": "markdown",
   "metadata": {},
   "source": [
    "# 1. Build model"
   ]
  },
  {
   "cell_type": "markdown",
   "metadata": {},
   "source": [
    "## [Loss function](https://www.tensorflow.org/guide/keras/train_and_evaluate#custom_losses)"
   ]
  },
  {
   "cell_type": "code",
   "execution_count": 349,
   "metadata": {},
   "outputs": [],
   "source": [
    "class PDE_Loss(tf.keras.losses.Loss):\n",
    "    def __init__(self, phi_init, u, regularization_factor=0.1, name=\"PDE_Loss\"):\n",
    "        super().__init__(name=name)\n",
    "        self.phi_init = phi_init\n",
    "        self.u = u\n",
    "    \n",
    "    def call(self, inputs, phi):\n",
    "        \n",
    "        gradient = tf.gradients(phi, inputs)[0]\n",
    "        phi_t, phi_x = tf.unstack(gradient,axis=1)\n",
    "\n",
    "        phi_t = tf.reshape(phi_t, [phi_t.shape[0],1])\n",
    "        phi_x = tf.reshape(phi_x, [phi_x.shape[0],1])\n",
    "        \n",
    "        governing_Eq = phi_t+self.u+phi_x\n",
    "        \n",
    "        init_size = self.phi_init.shape[0]\n",
    "\n",
    "        number_of_time_step = governing_Eq.shape[0] / init_size\n",
    "        \n",
    "        loss = tf.reduce_mean(tf.square(phi[:init_size]-self.phi_init)) \n",
    "\n",
    "        for one_time_step in range(1, int(number_of_time_step)):\n",
    "                    \n",
    "            loss += tf.reduce_sum(tf.square(\n",
    "                # governing_Eq in loss   \n",
    "                governing_Eq[one_time_step*init_size+1:(one_time_step+1)*init_size-1]\n",
    "            ))\n",
    "    \n",
    "            loss += tf.reduce_mean(tf.square(\n",
    "                 # bc in loss   \n",
    "                (phi[one_time_step*init_size][0]-1.0) \n",
    "            ))\n",
    "        \n",
    "            loss += tf.reduce_mean(tf.square(\n",
    "                 # bc in loss   \n",
    "                (phi[(one_time_step+1)*init_size-1][0]-1.0)\n",
    "            ))\n",
    "                \n",
    "#             tf.print(one_time_step)\n",
    "\n",
    "#             loss1 = tf.square(\n",
    "#                         # governing_Eq in loss   \n",
    "#                         governing_Eq[one_time_step*init_size+1:(one_time_step+1)*init_size-1]\n",
    "#                     )\n",
    "                             \n",
    "#             loss2 = tf.square(\n",
    "#                          # bc in loss   \n",
    "#                         (phi[one_time_step*init_size][0]-1.0) + \n",
    "#                         (phi[(one_time_step+1)*init_size-1][0]-1.0)\n",
    "#                     )\n",
    "                             \n",
    "#             tf.print(\"gv:\",loss1,  \"bc:\",loss2)\n",
    "            \n",
    "        return loss"
   ]
  },
  {
   "cell_type": "markdown",
   "metadata": {},
   "source": [
    "## [Metric](https://www.tensorflow.org/guide/keras/train_and_evaluate#custom_metrics)"
   ]
  },
  {
   "cell_type": "code",
   "execution_count": 350,
   "metadata": {},
   "outputs": [],
   "source": [
    "class PDE_Metric(tf.keras.metrics.Metric):\n",
    "    def __init__(self, name=\"PDE_Metric\", **kwargs):\n",
    "        super().__init__(name=name, **kwargs)\n",
    "         # define metric state variable here\n",
    "        \n",
    "    def update_state(self, y_true, y_pred, sample_weight=None):\n",
    "        # update metric state variable here\n",
    "        pass\n",
    "    \n",
    "    def result(self):\n",
    "        # update metric result here\n",
    "        return 0.0\n",
    "\n",
    "    def reset_states(self):\n",
    "        # reset metric state here\n",
    "        pass\n"
   ]
  },
  {
   "cell_type": "markdown",
   "metadata": {},
   "source": [
    "## [Model](https://www.tensorflow.org/guide/keras/customizing_what_happens_in_fit)"
   ]
  },
  {
   "cell_type": "code",
   "execution_count": 351,
   "metadata": {},
   "outputs": [],
   "source": [
    "class solve_PDE_Model(tf.keras.Model):\n",
    "    def __init__(self):\n",
    "        super().__init__() \n",
    "\n",
    "        self.layer1 = tf.keras.layers.Dense(units=20, activation=tf.nn.sigmoid, name='layer1')\n",
    "        self.layer2 = tf.keras.layers.Dense(units=20, activation=tf.nn.sigmoid, name='layer2')\n",
    "        self.layer3 = tf.keras.layers.Dense(units=20, activation=tf.nn.sigmoid, name='layer3')\n",
    "        self.layer4 = tf.keras.layers.Dense(units=20, activation=tf.nn.sigmoid, name='layer4')\n",
    "        self.layer5 = tf.keras.layers.Dense(units=20, activation=tf.nn.sigmoid, name='layer5')\n",
    "\n",
    "            \n",
    "        self.layer6 = tf.keras.layers.Dense(units=1, name='output')\n",
    "        \n",
    "            \n",
    "    def call(self, inputs):\n",
    "        outputs = self.layer1(inputs)\n",
    "        outputs = self.layer2(outputs)\n",
    "        outputs = self.layer3(outputs)\n",
    "        outputs = self.layer4(outputs)\n",
    "        outputs = self.layer5(outputs)\n",
    "        outputs = self.layer6(outputs)\n",
    "\n",
    "        return outputs\n",
    "    \n",
    "    def train_step(self, inputs):\n",
    "        # handle inputs depend on your model and on what you pass to `fit()`.\n",
    "\n",
    "        with tf.GradientTape() as tape:\n",
    "            phi = self(inputs, training=True)\n",
    "\n",
    "            # Compute the loss value\n",
    "            # (the loss function is configured in `compile()`)\n",
    "            loss = self.compiled_loss(inputs, phi)\n",
    "\n",
    "        # Compute gradients\n",
    "        trainable_vars = self.trainable_variables\n",
    "        gradients = tape.gradient(loss, trainable_vars)\n",
    "\n",
    "        # Update weights\n",
    "        self.optimizer.apply_gradients(zip(gradients, trainable_vars))\n",
    "        \n",
    "        # Update metrics (includes the metric that tracks the loss)\n",
    "        _ = tf.zeros(shape=(2))\n",
    "        self.compiled_metrics.update_state(_, _)\n",
    "    \n",
    "        # Return a dict mapping metric names to current value\n",
    "        return {m.name: m.result() for m in self.metrics}\n",
    "\n",
    "    # issue:\n",
    "    # https://github.com/tensorflow/tensorflow/issues/25036\n",
    "    # https://stackoverflow.com/questions/55235212/model-summary-cant-print-output-shape-while-using-subclass-model/55236388#55236388\n",
    "    def summary(self):\n",
    "        x = tf.keras.Input(shape=(2))\n",
    "        model = tf.keras.Model(inputs=[x], outputs=self.call(x))\n",
    "        return model.summary()"
   ]
  },
  {
   "cell_type": "markdown",
   "metadata": {},
   "source": [
    "# 2. Run model"
   ]
  },
  {
   "cell_type": "markdown",
   "metadata": {},
   "source": [
    "## Create input"
   ]
  },
  {
   "cell_type": "markdown",
   "metadata": {},
   "source": [
    "### Setting simulation domain"
   ]
  },
  {
   "cell_type": "code",
   "execution_count": 456,
   "metadata": {},
   "outputs": [],
   "source": [
    "lx = 2\n",
    "nx = 20\n",
    "dx = lx / (nx-1)\n",
    "\n",
    "lt = 0.05\n",
    "nt = 3\n",
    "dt = lt / (nt-1)\n",
    "\n",
    "u = 1      #assume wavespeed of u = 1"
   ]
  },
  {
   "cell_type": "code",
   "execution_count": 457,
   "metadata": {},
   "outputs": [],
   "source": [
    "# # square init\n",
    "# phi_init = np.ones(nx)\n",
    "# phi_init[int(.5 / dx):int(1 / dx + 1)] = 2\n",
    "# phi_init = phi_init.reshape(phi_init.shape[0],-1)\n",
    "# phi_init = tf.constant(phi_init, dtype=tf.float32)\n",
    "# print (phi_init)"
   ]
  },
  {
   "cell_type": "code",
   "execution_count": 458,
   "metadata": {},
   "outputs": [],
   "source": [
    "# sine wave init\n",
    "phi_init = np.ones(nx)\n",
    "\n",
    "sineWave = np.linspace(0,2*np.pi, int(1.5 / dx + 1) - int(.5 / dx) )\n",
    "phi_init[int(.5 / dx):int(1.5 / dx + 1)] += np.sin(sineWave)\n",
    "\n",
    "phi_init = phi_init.reshape(phi_init.shape[0],-1)\n",
    "phi_init = tf.constant(phi_init, dtype=tf.float32)"
   ]
  },
  {
   "cell_type": "code",
   "execution_count": 459,
   "metadata": {},
   "outputs": [
    {
     "name": "stdout",
     "output_type": "stream",
     "text": [
      "(60, 2)\n",
      "tf.Tensor(\n",
      "[[0.         0.        ]\n",
      " [0.         0.10526316]\n",
      " [0.         0.21052632]\n",
      " [0.         0.31578946]\n",
      " [0.         0.42105263]\n",
      " [0.         0.5263158 ]\n",
      " [0.         0.6315789 ]\n",
      " [0.         0.7368421 ]\n",
      " [0.         0.84210527]\n",
      " [0.         0.94736844]\n",
      " [0.         1.0526316 ]\n",
      " [0.         1.1578947 ]\n",
      " [0.         1.2631578 ]\n",
      " [0.         1.3684211 ]\n",
      " [0.         1.4736842 ]\n",
      " [0.         1.5789474 ]\n",
      " [0.         1.6842105 ]\n",
      " [0.         1.7894737 ]\n",
      " [0.         1.8947369 ]\n",
      " [0.         2.        ]\n",
      " [0.025      0.        ]\n",
      " [0.025      0.10526316]\n",
      " [0.025      0.21052632]\n",
      " [0.025      0.31578946]\n",
      " [0.025      0.42105263]\n",
      " [0.025      0.5263158 ]\n",
      " [0.025      0.6315789 ]\n",
      " [0.025      0.7368421 ]\n",
      " [0.025      0.84210527]\n",
      " [0.025      0.94736844]\n",
      " [0.025      1.0526316 ]\n",
      " [0.025      1.1578947 ]\n",
      " [0.025      1.2631578 ]\n",
      " [0.025      1.3684211 ]\n",
      " [0.025      1.4736842 ]\n",
      " [0.025      1.5789474 ]\n",
      " [0.025      1.6842105 ]\n",
      " [0.025      1.7894737 ]\n",
      " [0.025      1.8947369 ]\n",
      " [0.025      2.        ]\n",
      " [0.05       0.        ]\n",
      " [0.05       0.10526316]\n",
      " [0.05       0.21052632]\n",
      " [0.05       0.31578946]\n",
      " [0.05       0.42105263]\n",
      " [0.05       0.5263158 ]\n",
      " [0.05       0.6315789 ]\n",
      " [0.05       0.7368421 ]\n",
      " [0.05       0.84210527]\n",
      " [0.05       0.94736844]\n",
      " [0.05       1.0526316 ]\n",
      " [0.05       1.1578947 ]\n",
      " [0.05       1.2631578 ]\n",
      " [0.05       1.3684211 ]\n",
      " [0.05       1.4736842 ]\n",
      " [0.05       1.5789474 ]\n",
      " [0.05       1.6842105 ]\n",
      " [0.05       1.7894737 ]\n",
      " [0.05       1.8947369 ]\n",
      " [0.05       2.        ]], shape=(60, 2), dtype=float32)\n"
     ]
    }
   ],
   "source": [
    "x_all = np.linspace(0, lx, nx)\n",
    "x_all = tf.constant(x_all, dtype=tf.float32)\n",
    "\n",
    "t_all = np.linspace(0, lt, nt)\n",
    "t_all = tf.constant(t_all, dtype=tf.float32)\n",
    "\n",
    "def combine(x, y):\n",
    "  xx, yy = tf.meshgrid(x, y, indexing='ij')\n",
    "  return tf.stack([tf.reshape(xx, [-1]), tf.reshape(yy, [-1])], axis=1)\n",
    "\n",
    "inputs_all = combine(t_all,x_all)\n",
    "\n",
    "print(inputs_all.shape)\n",
    "print (inputs_all)"
   ]
  },
  {
   "cell_type": "markdown",
   "metadata": {},
   "source": [
    "### Instantiate model ()"
   ]
  },
  {
   "cell_type": "code",
   "execution_count": 460,
   "metadata": {},
   "outputs": [
    {
     "name": "stdout",
     "output_type": "stream",
     "text": [
      "Model: \"functional_57\"\n",
      "_________________________________________________________________\n",
      "Layer (type)                 Output Shape              Param #   \n",
      "=================================================================\n",
      "input_29 (InputLayer)        [(None, 2)]               0         \n",
      "_________________________________________________________________\n",
      "layer1 (Dense)               (None, 20)                60        \n",
      "_________________________________________________________________\n",
      "layer2 (Dense)               (None, 20)                420       \n",
      "_________________________________________________________________\n",
      "layer3 (Dense)               (None, 20)                420       \n",
      "_________________________________________________________________\n",
      "layer4 (Dense)               (None, 20)                420       \n",
      "_________________________________________________________________\n",
      "layer5 (Dense)               (None, 20)                420       \n",
      "_________________________________________________________________\n",
      "output (Dense)               (None, 1)                 21        \n",
      "=================================================================\n",
      "Total params: 1,761\n",
      "Trainable params: 1,761\n",
      "Non-trainable params: 0\n",
      "_________________________________________________________________\n"
     ]
    }
   ],
   "source": [
    "model = solve_PDE_Model()\n",
    "\n",
    "model.compile(\n",
    "    optimizer=tf.keras.optimizers.Adam(learning_rate=0.005),\n",
    "    loss=PDE_Loss(phi_init,u),\n",
    "    metrics=[PDE_Metric(),]\n",
    "    \n",
    ")\n",
    "\n",
    "model.summary()"
   ]
  },
  {
   "cell_type": "markdown",
   "metadata": {},
   "source": [
    "## Run model"
   ]
  },
  {
   "cell_type": "code",
   "execution_count": 461,
   "metadata": {},
   "outputs": [
    {
     "data": {
      "text/plain": [
       "<tensorflow.python.keras.callbacks.History at 0x24dd6bd9f88>"
      ]
     },
     "execution_count": 461,
     "metadata": {},
     "output_type": "execute_result"
    }
   ],
   "source": [
    "# es = tf.keras.callbacks.EarlyStopping(monitor='loss', mode='min', verbose=1, patience=40, min_delta=0.0001)\n",
    "\n",
    "model.fit(inputs_all,batch_size=inputs_all.shape[0],  shuffle=False, epochs=50000, verbose =0)\n",
    "\n",
    "# model.save('testModel', save_format='tf')"
   ]
  },
  {
   "cell_type": "code",
   "execution_count": 462,
   "metadata": {},
   "outputs": [],
   "source": [
    "result = model(inputs_all)"
   ]
  },
  {
   "cell_type": "markdown",
   "metadata": {},
   "source": [
    "# Validate Model"
   ]
  },
  {
   "cell_type": "code",
   "execution_count": 469,
   "metadata": {},
   "outputs": [
    {
     "data": {
      "image/png": "[encoded data removed]",
      "text/plain": [
       "<Figure size 576x360 with 1 Axes>"
      ]
     },
     "metadata": {
      "needs_background": "light"
     },
     "output_type": "display_data"
    }
   ],
   "source": [
    "%matplotlib inline\n",
    "\n",
    "# create a figure and axes\n",
    "fig = plt.figure(figsize=(8,5))\n",
    "ax1 = plt.subplot(1,1,1)   \n",
    "\n",
    "# set up the subplots as needed\n",
    "ax1.set_xlim((0, 2))            \n",
    "ax1.set_ylim((-1, 3))\n",
    "ax1.set_xlabel('Domain')\n",
    "ax1.set_ylabel('Phi')\n",
    "\n",
    "# create objects that will change in the animation. These are\n",
    "# initially empty, and will be given new values for each frame\n",
    "# in the animation.\n",
    "n=1\n",
    "txt_title = ax1.set_title('')\n",
    "line1, = ax1.plot(x_all, phi_init, 'gray', lw=2)     # ax.plot returns a list of 2D line objects\n",
    "line1, = ax1.plot(x_all+dt*n*u, phi_init, 'b', lw=2)     # ax.plot returns a list of 2D line objects\n",
    "line2, = ax1.plot(x_all, result[n*nx:(n+1)*nx], 'r-.', lw=2)     # ax.plot returns a list of 2D line objects\n",
    "ax1.legend(['init','result']);"
   ]
  },
  {
   "cell_type": "code",
   "execution_count": null,
   "metadata": {},
   "outputs": [],
   "source": []
  }
 ],
 "metadata": {
  "kernelspec": {
   "display_name": "Python 3 (ipykernel)",
   "language": "python",
   "name": "python3"
  },
  "language_info": {
   "codemirror_mode": {
    "name": "ipython",
    "version": 3
   },
   "file_extension": ".py",
   "mimetype": "text/x-python",
   "name": "python",
   "nbconvert_exporter": "python",
   "pygments_lexer": "ipython3",
   "version": "3.7.5"
  }
 },
 "nbformat": 4,
 "nbformat_minor": 4
}
