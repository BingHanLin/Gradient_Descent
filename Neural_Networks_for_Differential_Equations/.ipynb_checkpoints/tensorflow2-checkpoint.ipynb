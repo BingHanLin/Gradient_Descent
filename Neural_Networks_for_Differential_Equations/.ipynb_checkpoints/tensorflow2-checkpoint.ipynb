{
 "cells": [
  {
   "cell_type": "markdown",
   "metadata": {},
   "source": [
    "Ref: \n",
    "https://www.tensorflow.org/guide/keras/custom_layers_and_models\n",
    "https://www.tensorflow.org/guide/keras/customizing_what_happens_in_fit\n",
    "\n",
    "https://tf.wiki/zh_hant/preface.html"
   ]
  },
  {
   "cell_type": "markdown",
   "metadata": {},
   "source": [
    "## The ODE example"
   ]
  },
  {
   "cell_type": "markdown",
   "metadata": {
    "colab_type": "text",
    "id": "J6eLaCMr_Hnm"
   },
   "source": [
    "The ODE equation is:\n",
    "\n",
    "$$\\frac{d\\phi}{dt}+(t+\\frac{1+3t^2}{1+t+t^3})\\phi=t^3+2t+t^2\\frac{1+3t^2}{1+t+t^3}$$"
   ]
  },
  {
   "cell_type": "markdown",
   "metadata": {},
   "source": [
    "With the following condition:\n",
    "$$\\phi(0) = 1\\quad and \\quad t \\in [0,1]$$"
   ]
  },
  {
   "cell_type": "markdown",
   "metadata": {},
   "source": [
    "The analytic solution is:\n",
    "    \n",
    "$$\\phi(t) = \\frac{e^{-t^2}/2}{1+t+t^3}$$"
   ]
  },
  {
   "cell_type": "code",
   "execution_count": 1,
   "metadata": {},
   "outputs": [
    {
     "name": "stdout",
     "output_type": "stream",
     "text": [
      "2.3.1\n"
     ]
    }
   ],
   "source": [
    "# TensorFlow and tf.keras\n",
    "import tensorflow as tf\n",
    "\n",
    "# Helper libraries\n",
    "import numpy as np\n",
    "import matplotlib.pyplot as plt\n",
    "import time\n",
    "\n",
    "print(tf.__version__)"
   ]
  },
  {
   "cell_type": "markdown",
   "metadata": {},
   "source": [
    "# 1. Build model"
   ]
  },
  {
   "cell_type": "markdown",
   "metadata": {},
   "source": [
    "## [Loss function](https://www.tensorflow.org/guide/keras/train_and_evaluate#custom_losses)"
   ]
  },
  {
   "cell_type": "code",
   "execution_count": 2,
   "metadata": {},
   "outputs": [],
   "source": [
    "class ODE_Loss(tf.keras.losses.Loss):\n",
    "    def __init__(self, regularization_factor=0.1, name=\"ODE_Loss\"):\n",
    "        super().__init__(name=name)\n",
    "\n",
    "    def call(self, inputs, phi):\n",
    "        phi_t = tf.gradients(phi, inputs)[0]\n",
    "\n",
    "        governing_Eq = phi_t[1:]+(inputs[1:] + (1. + 3.*inputs[1:]**2) / (1. + inputs[1:] + inputs[1:]**3))*phi[1:] - \\\n",
    "                       (inputs[1:]**3 + 2.*inputs[1:] + inputs[1:]**2 * ((1. + 3.*inputs[1:]**2) / (1. + inputs[1:] + inputs[1:]**3)))\n",
    "\n",
    "        loss = tf.reduce_mean(tf.square(governing_Eq)) + tf.reduce_mean(tf.square(phi[0]-1)) \n",
    "\n",
    "        return loss"
   ]
  },
  {
   "cell_type": "markdown",
   "metadata": {},
   "source": [
    "## [Metric](https://www.tensorflow.org/guide/keras/train_and_evaluate#custom_metrics)"
   ]
  },
  {
   "cell_type": "code",
   "execution_count": 3,
   "metadata": {},
   "outputs": [],
   "source": [
    "class ODE_Metric(tf.keras.metrics.Metric):\n",
    "    def __init__(self, name=\"ODE_Metric\", **kwargs):\n",
    "        super().__init__(name=name, **kwargs)\n",
    "         # define metric state variable here\n",
    "        \n",
    "    def update_state(self):\n",
    "        # update metric state variable here\n",
    "        pass\n",
    "    \n",
    "    def result(self,y_true=None, y_pred=None):\n",
    "        # update metric result here\n",
    "        return \"not defined yet\"\n",
    "\n",
    "    def reset_states(self):\n",
    "        # reset metric state here\n",
    "        pass\n"
   ]
  },
  {
   "cell_type": "markdown",
   "metadata": {},
   "source": [
    "## [Model](https://www.tensorflow.org/guide/keras/customizing_what_happens_in_fit)"
   ]
  },
  {
   "cell_type": "code",
   "execution_count": 6,
   "metadata": {},
   "outputs": [],
   "source": [
    "class solve_ODE_Model(tf.keras.Model):\n",
    "    def __init__(self):\n",
    "        super().__init__() \n",
    "        self.layer1 = tf.keras.layers.Dense(units=10, activation=tf.nn.sigmoid)\n",
    "        self.layer2 = tf.keras.layers.Dense(units=10, activation=tf.nn.sigmoid)\n",
    "        self.layer3 = tf.keras.layers.Dense(units=1)\n",
    "            \n",
    "    \n",
    "    def call(self, inputs):\n",
    "        outputs = self.layer1(inputs)\n",
    "        outputs = self.layer2(outputs)\n",
    "        outputs = self.layer3(outputs)\n",
    "        return outputs\n",
    "    \n",
    "    def train_step(self, inputs):\n",
    "        # handle inputs depend on your model and on what you pass to `fit()`.\n",
    "\n",
    "        with tf.GradientTape() as tape:\n",
    "            phi = self(inputs, training=True)\n",
    "\n",
    "            # Compute the loss value\n",
    "            # (the loss function is configured in `compile()`)\n",
    "            loss = self.compiled_loss(inputs, phi)\n",
    "\n",
    "        # Compute gradients\n",
    "        trainable_vars = self.trainable_variables\n",
    "        gradients = tape.gradient(loss, trainable_vars)\n",
    "\n",
    "        # Update weights\n",
    "        self.optimizer.apply_gradients(zip(gradients, trainable_vars))\n",
    "        \n",
    "        # Update metrics (includes the metric that tracks the loss)\n",
    "#         self.compiled_metrics.update_state()\n",
    "        \n",
    "        \n",
    "#         tf.print(\"compiled_metrics\", self.compiled_metrics)\n",
    "    \n",
    "        # Return a dict mapping metric names to current value\n",
    "        return {m.name: m.result() for m in self.metrics}\n",
    "    "
   ]
  },
  {
   "cell_type": "markdown",
   "metadata": {},
   "source": [
    "# 2. Run model"
   ]
  },
  {
   "cell_type": "markdown",
   "metadata": {},
   "source": [
    "## create input"
   ]
  },
  {
   "cell_type": "code",
   "execution_count": 23,
   "metadata": {},
   "outputs": [],
   "source": [
    "t_all = np.linspace(0, 1, 20)\n",
    "\n",
    "t_n = t_all[1:]\n",
    "t_n = t_n.reshape(t_n.shape[0],-1)\n",
    "t_n = tf.constant(t_n, dtype=tf.float32)\n",
    "\n",
    "t_0 = t_all[:1]\n",
    "t_0 = t_0.reshape(t_0.shape[0],-1)\n",
    "t_0 = tf.constant(t_0, dtype=tf.float32)\n",
    "\n",
    "t_input = tf.concat([t_0, t_n], 0)"
   ]
  },
  {
   "cell_type": "markdown",
   "metadata": {},
   "source": [
    "## Instantiate and run model"
   ]
  },
  {
   "cell_type": "code",
   "execution_count": 26,
   "metadata": {},
   "outputs": [
    {
     "data": {
      "text/plain": [
       "<tensorflow.python.keras.callbacks.History at 0x23dfbdb5988>"
      ]
     },
     "execution_count": 26,
     "metadata": {},
     "output_type": "execute_result"
    }
   ],
   "source": [
    "model = solve_ODE_Model()\n",
    "\n",
    "model.compile(\n",
    "    optimizer=tf.keras.optimizers.Adam(),\n",
    "    loss=ODE_Loss(),\n",
    "    metrics=ODE_Metric()\n",
    ")\n",
    "\n",
    "model.fit(t_input, shuffle=False, epochs=2000,verbose=0)\n",
    "# print (t_input)\n",
    "# model.summary()\n",
    "# y = model(t_input)\n",
    "\n",
    "# start_time = time.time()\n",
    "# for _ in range(8000):\n",
    "#     train_one_step(t_input, t_0.shape[0])\n",
    "# end_time = time.time()\n",
    "# # print(end_time - start_time)"
   ]
  },
  {
   "cell_type": "code",
   "execution_count": 27,
   "metadata": {},
   "outputs": [
    {
     "data": {
      "text/plain": [
       "<tf.Tensor: shape=(20, 1), dtype=float32, numpy=\n",
       "array([[0.9953415 ],\n",
       "       [0.95967937],\n",
       "       [0.9250805 ],\n",
       "       [0.8923579 ],\n",
       "       [0.8623985 ],\n",
       "       [0.8361385 ],\n",
       "       [0.81453186],\n",
       "       [0.79851776],\n",
       "       [0.78898245],\n",
       "       [0.78672117],\n",
       "       [0.7923996 ],\n",
       "       [0.8065143 ],\n",
       "       [0.82935715],\n",
       "       [0.8609836 ],\n",
       "       [0.90118974],\n",
       "       [0.9495018 ],\n",
       "       [1.0051838 ],\n",
       "       [1.0672628 ],\n",
       "       [1.1345754 ],\n",
       "       [1.205828  ]], dtype=float32)>"
      ]
     },
     "execution_count": 27,
     "metadata": {},
     "output_type": "execute_result"
    }
   ],
   "source": [
    "model(t_input)"
   ]
  },
  {
   "cell_type": "code",
   "execution_count": 38,
   "metadata": {},
   "outputs": [],
   "source": [
    "class solveODEModel(tf.keras.Model):\n",
    "    def __init__(self):\n",
    "        super().__init__() \n",
    "        \n",
    "        self.layer1 = tf.keras.layers.Dense(\n",
    "            units=10,\n",
    "            activation=tf.nn.sigmoid\n",
    "        )\n",
    "        \n",
    "        self.layer2 = tf.keras.layers.Dense(\n",
    "            units=10,\n",
    "            activation=tf.nn.sigmoid\n",
    "        )\n",
    "            \n",
    "        self.layer2 = tf.keras.layers.Dense(\n",
    "            units=1\n",
    "        )\n",
    "            \n",
    "    \n",
    "    def call(self, input):\n",
    "        output = self.layer1(input)\n",
    "        output = self.layer2(output)\n",
    "        return output"
   ]
  },
  {
   "cell_type": "code",
   "execution_count": null,
   "metadata": {},
   "outputs": [],
   "source": []
  },
  {
   "cell_type": "code",
   "execution_count": 779,
   "metadata": {},
   "outputs": [],
   "source": [
    "\n",
    "def analytic_sol(t):\n",
    "    '''\n",
    "        Analytical solution of current problem\n",
    "    '''\n",
    "    return (np.exp((-t**2)/2.)) / (1. + t + t**3) + t**2\n"
   ]
  },
  {
   "cell_type": "code",
   "execution_count": 827,
   "metadata": {},
   "outputs": [],
   "source": [
    "\n",
    "optimizer = tf.keras.optimizers.Adagrad(learning_rate=0.05)\n",
    "\n",
    "@tf.function\n",
    "def train_one_step(t_input, t_0_num):    \n",
    "    with tf.GradientTape() as tape:\n",
    "        phi = model(t_input)\n",
    "        phi_t = tf.gradients(phi, t_input)[0]\n",
    "        \n",
    "\n",
    "        governingEq = phi_t[1:]+(t_input[1:] + (1. + 3.*t_input[1:]**2) / (1. + t_input[1:] + t_input[1:]**3))*phi[1:] - \\\n",
    "                       (t_input[1:]**3 + 2.*t_input[1:] + t_input[1:]**2 * ((1. + 3.*t_input[1:]**2) / (1. + t_input[1:] + t_input[1:]**3)))\n",
    "\n",
    "        loss =  tf.reduce_mean(tf.square(governingEq))+ \\\n",
    "                tf.reduce_mean(tf.square(phi[0]-1))\n",
    "            \n",
    "#         tf.print(\"governingEq\",governingEq)\n",
    "        \n",
    "    grads = tape.gradient(loss, model.variables)    \n",
    "    optimizer.apply_gradients(grads_and_vars=zip(grads, model.variables))"
   ]
  },
  {
   "cell_type": "code",
   "execution_count": 828,
   "metadata": {},
   "outputs": [],
   "source": [
    "t_all = np.linspace(0, 1, 10)\n",
    "\n",
    "t_n = t_all[1:]\n",
    "t_n = t_n.reshape(t_n.shape[0],-1)\n",
    "t_n = tf.constant(t_n, dtype=tf.float32)\n",
    "\n",
    "t_0 = t_all[:1]\n",
    "t_0 = t_0.reshape(t_0.shape[0],-1)\n",
    "t_0 = tf.constant(t_0, dtype=tf.float32)\n",
    "\n",
    "t_input = tf.concat([t_0, t_n], 0)"
   ]
  },
  {
   "cell_type": "code",
   "execution_count": 829,
   "metadata": {},
   "outputs": [],
   "source": [
    "start_time = time.time()\n",
    "for _ in range(8000):\n",
    "    train_one_step(t_input, t_0.shape[0])\n",
    "end_time = time.time()\n",
    "# print(end_time - start_time)"
   ]
  },
  {
   "cell_type": "code",
   "execution_count": 830,
   "metadata": {},
   "outputs": [
    {
     "name": "stdout",
     "output_type": "stream",
     "text": [
      "WARNING:tensorflow:11 out of the last 11 calls to <function Model.make_predict_function.<locals>.predict_function at 0x000001F41893E3A8> triggered tf.function retracing. Tracing is expensive and the excessive number of tracings could be due to (1) creating @tf.function repeatedly in a loop, (2) passing tensors with different shapes, (3) passing Python objects instead of tensors. For (1), please define your @tf.function outside of the loop. For (2), @tf.function has experimental_relax_shapes=True option that relaxes argument shapes that can avoid unnecessary retracing. For (3), please refer to https://www.tensorflow.org/tutorials/customization/performance#python_or_tensor_args and https://www.tensorflow.org/api_docs/python/tf/function for  more details.\n"
     ]
    },
    {
     "data": {
      "text/plain": [
       "array([1.0005642 , 0.9251973 , 0.86350316, 0.8200056 , 0.7996714 ,\n",
       "       0.808179  , 0.8515661 , 0.9345132 , 1.0568179 , 1.2093561 ],\n",
       "      dtype=float32)"
      ]
     },
     "execution_count": 830,
     "metadata": {},
     "output_type": "execute_result"
    }
   ],
   "source": [
    "x_predict = np.linspace(0, 1, 10)\n",
    "pred = model.predict(x_predict)\n",
    "pred = pred.flatten()\n",
    "pred"
   ]
  },
  {
   "cell_type": "code",
   "execution_count": 831,
   "metadata": {},
   "outputs": [
    {
     "data": {
      "text/plain": [
       "array([1.        , 0.90570432, 0.84050664, 0.80140586, 0.78879437,\n",
       "       0.80486972, 0.85236727, 0.93362934, 1.05009298, 1.20217689])"
      ]
     },
     "execution_count": 831,
     "metadata": {},
     "output_type": "execute_result"
    }
   ],
   "source": [
    "x_predict = np.linspace(0, 1, 10)\n",
    "ana = analytic_sol(x_predict)\n",
    "ana\n"
   ]
  },
  {
   "cell_type": "code",
   "execution_count": 598,
   "metadata": {},
   "outputs": [
    {
     "data": {
      "text/plain": [
       "array([ 0.11101419, -0.01420164, -0.11057601, -0.18108593, -0.22531322,\n",
       "       -0.2410336 , -0.22548474, -0.17629641, -0.09200294,  0.02784367])"
      ]
     },
     "execution_count": 598,
     "metadata": {},
     "output_type": "execute_result"
    }
   ],
   "source": [
    "ana-pred"
   ]
  },
  {
   "cell_type": "code",
   "execution_count": null,
   "metadata": {},
   "outputs": [],
   "source": [
    "np.sum((ana-pred)**2)/10"
   ]
  },
  {
   "cell_type": "code",
   "execution_count": 334,
   "metadata": {},
   "outputs": [
    {
     "ename": "NameError",
     "evalue": "name 'x_predict' is not defined",
     "output_type": "error",
     "traceback": [
      "\u001b[1;31m---------------------------------------------------------------------------\u001b[0m",
      "\u001b[1;31mNameError\u001b[0m                                 Traceback (most recent call last)",
      "\u001b[1;32m<ipython-input-334-76f5667a855e>\u001b[0m in \u001b[0;36m<module>\u001b[1;34m\u001b[0m\n\u001b[0;32m      3\u001b[0m \u001b[0mfig\u001b[0m\u001b[1;33m,\u001b[0m \u001b[0max\u001b[0m \u001b[1;33m=\u001b[0m \u001b[0mplt\u001b[0m\u001b[1;33m.\u001b[0m\u001b[0msubplots\u001b[0m\u001b[1;33m(\u001b[0m\u001b[1;33m)\u001b[0m\u001b[1;33m\u001b[0m\u001b[1;33m\u001b[0m\u001b[0m\n\u001b[0;32m      4\u001b[0m \u001b[1;33m\u001b[0m\u001b[0m\n\u001b[1;32m----> 5\u001b[1;33m \u001b[0max\u001b[0m\u001b[1;33m.\u001b[0m\u001b[0mplot\u001b[0m\u001b[1;33m(\u001b[0m\u001b[0mx_predict\u001b[0m\u001b[1;33m,\u001b[0m \u001b[0mpsi_analytic\u001b[0m\u001b[1;33m,\u001b[0m \u001b[1;34m'bo-'\u001b[0m\u001b[1;33m,\u001b[0m \u001b[0mlabel\u001b[0m\u001b[1;33m=\u001b[0m\u001b[1;34m\"analytic sol\"\u001b[0m\u001b[1;33m)\u001b[0m\u001b[1;33m\u001b[0m\u001b[1;33m\u001b[0m\u001b[0m\n\u001b[0m\u001b[0;32m      6\u001b[0m \u001b[0max\u001b[0m\u001b[1;33m.\u001b[0m\u001b[0mplot\u001b[0m\u001b[1;33m(\u001b[0m\u001b[0mx_predict\u001b[0m\u001b[1;33m,\u001b[0m \u001b[0mpsi_predict_network\u001b[0m\u001b[1;33m,\u001b[0m \u001b[1;34m'r*-'\u001b[0m\u001b[1;33m,\u001b[0m \u001b[0mlabel\u001b[0m\u001b[1;33m=\u001b[0m\u001b[1;34m\"predict sol\"\u001b[0m\u001b[1;33m)\u001b[0m\u001b[1;33m\u001b[0m\u001b[1;33m\u001b[0m\u001b[0m\n\u001b[0;32m      7\u001b[0m \u001b[1;33m\u001b[0m\u001b[0m\n",
      "\u001b[1;31mNameError\u001b[0m: name 'x_predict' is not defined"
     ]
    },
    {
     "data": {
      "image/png": "[encoded data removed]",
      "text/plain": [
       "<Figure size 432x288 with 1 Axes>"
      ]
     },
     "metadata": {
      "needs_background": "light"
     },
     "output_type": "display_data"
    }
   ],
   "source": [
    "from matplotlib import pyplot as plt\n",
    "\n",
    "fig, ax = plt.subplots()\n",
    "\n",
    "ax.plot(x_predict, phi_analytic, 'bo-', label=\"analytic sol\") \n",
    "ax.plot(x_predict, phi_predict_network, 'r*-', label=\"predict sol\")\n",
    "\n",
    "ax.legend(bbox_to_anchor=(0., 1.02, 1., .102), loc=3,\n",
    "           ncol=2, mode=\"expand\", borderaxespad=0.)\n",
    "\n",
    "ax.set_ylabel('phi Value')\n",
    "ax.set_xlabel('X - axis')\n",
    "ax.grid()\n",
    "plt.savefig('ANN_for_ODE.png')\n",
    "plt.show()"
   ]
  },
  {
   "cell_type": "code",
   "execution_count": 276,
   "metadata": {},
   "outputs": [
    {
     "data": {
      "text/plain": [
       "<tf.Tensor: shape=(2, 2, 3), dtype=int32, numpy=\n",
       "array([[[1, 1, 1],\n",
       "        [2, 2, 2]],\n",
       "\n",
       "       [[3, 3, 3],\n",
       "        [4, 4, 4]]])>"
      ]
     },
     "execution_count": 276,
     "metadata": {},
     "output_type": "execute_result"
    }
   ],
   "source": [
    "t = tf.constant([ [[1, 1, 1], [2, 2, 2]], [[3, 3, 3], [4, 4, 4]] ])\n",
    "t\n"
   ]
  },
  {
   "cell_type": "code",
   "execution_count": 548,
   "metadata": {},
   "outputs": [
    {
     "data": {
      "text/plain": [
       "<tf.Tensor: shape=(3,), dtype=int32, numpy=array([3, 4, 3])>"
      ]
     },
     "execution_count": 548,
     "metadata": {},
     "output_type": "execute_result"
    }
   ],
   "source": [
    "x = tf.constant([1,2,3])\n",
    "y = tf.constant([3,2,1])\n",
    "\n",
    "x*y"
   ]
  },
  {
   "cell_type": "code",
   "execution_count": 26,
   "metadata": {},
   "outputs": [
    {
     "ename": "AttributeError",
     "evalue": "Tensor.op is meaningless when eager execution is enabled.",
     "output_type": "error",
     "traceback": [
      "\u001b[1;31m---------------------------------------------------------------------------\u001b[0m",
      "\u001b[1;31mAttributeError\u001b[0m                            Traceback (most recent call last)",
      "\u001b[1;32m<ipython-input-26-3cc99758e641>\u001b[0m in \u001b[0;36m<module>\u001b[1;34m\u001b[0m\n\u001b[0;32m     15\u001b[0m \u001b[0my\u001b[0m \u001b[1;33m=\u001b[0m \u001b[0mmodel\u001b[0m\u001b[1;33m(\u001b[0m\u001b[0mx\u001b[0m\u001b[1;33m)\u001b[0m\u001b[1;33m\u001b[0m\u001b[1;33m\u001b[0m\u001b[0m\n\u001b[0;32m     16\u001b[0m \u001b[1;31m# y\u001b[0m\u001b[1;33m\u001b[0m\u001b[1;33m\u001b[0m\u001b[1;33m\u001b[0m\u001b[0m\n\u001b[1;32m---> 17\u001b[1;33m \u001b[0my\u001b[0m\u001b[1;33m.\u001b[0m\u001b[0mop\u001b[0m\u001b[1;33m\u001b[0m\u001b[1;33m\u001b[0m\u001b[0m\n\u001b[0m",
      "\u001b[1;32m~\\AppData\\Roaming\\Python\\Python37\\site-packages\\tensorflow\\python\\framework\\ops.py\u001b[0m in \u001b[0;36mop\u001b[1;34m(self)\u001b[0m\n\u001b[0;32m   1213\u001b[0m   \u001b[1;32mdef\u001b[0m \u001b[0mop\u001b[0m\u001b[1;33m(\u001b[0m\u001b[0mself\u001b[0m\u001b[1;33m)\u001b[0m\u001b[1;33m:\u001b[0m\u001b[1;33m\u001b[0m\u001b[1;33m\u001b[0m\u001b[0m\n\u001b[0;32m   1214\u001b[0m     raise AttributeError(\n\u001b[1;32m-> 1215\u001b[1;33m         \"Tensor.op is meaningless when eager execution is enabled.\")\n\u001b[0m\u001b[0;32m   1216\u001b[0m \u001b[1;33m\u001b[0m\u001b[0m\n\u001b[0;32m   1217\u001b[0m   \u001b[1;33m@\u001b[0m\u001b[0mproperty\u001b[0m\u001b[1;33m\u001b[0m\u001b[1;33m\u001b[0m\u001b[0m\n",
      "\u001b[1;31mAttributeError\u001b[0m: Tensor.op is meaningless when eager execution is enabled."
     ]
    }
   ],
   "source": [
    "import tensorflow as tf\n",
    "from tensorflow import keras\n",
    "from tensorflow.keras import layers\n",
    "\n",
    "# Define Sequential model with 3 layers\n",
    "model = keras.Sequential(\n",
    "    [\n",
    "        layers.Dense(2, activation=\"relu\", name=\"layer1\"),\n",
    "        layers.Dense(3, activation=\"relu\", name=\"layer2\"),\n",
    "        layers.Dense(4, name=\"layer3\"),\n",
    "    ]\n",
    ")\n",
    "# Call model on a test input\n",
    "x = tf.ones((1, 3))\n",
    "y = model(x)\n",
    "# y\n",
    "y.op"
   ]
  },
  {
   "cell_type": "code",
   "execution_count": 2,
   "metadata": {},
   "outputs": [
    {
     "name": "stdout",
     "output_type": "stream",
     "text": [
      "3\n"
     ]
    }
   ],
   "source": [
    "print(len(model.layers)) "
   ]
  },
  {
   "cell_type": "code",
   "execution_count": 27,
   "metadata": {},
   "outputs": [
    {
     "data": {
      "text/plain": [
       "<tf.Operation 'encoder/global_max_pooling2d_7/Max' type=Max>"
      ]
     },
     "execution_count": 27,
     "metadata": {},
     "output_type": "execute_result"
    }
   ],
   "source": [
    "encoder_input = keras.Input(shape=(28, 28, 1), name=\"original_img\")\n",
    "x = layers.Conv2D(16, 3, activation=\"relu\")(encoder_input)\n",
    "x = layers.Conv2D(32, 3, activation=\"relu\")(x)\n",
    "x = layers.MaxPooling2D(3)(x)\n",
    "x = layers.Conv2D(32, 3, activation=\"relu\")(x)\n",
    "x = layers.Conv2D(16, 3, activation=\"relu\")(x)\n",
    "encoder_output = layers.GlobalMaxPooling2D()(x)\n",
    "\n",
    "encoder = keras.Model(encoder_input, encoder_output, name=\"encoder\")\n",
    "# encoder.summary()\n",
    "\n",
    "decoder_input = keras.Input(shape=(16,), name=\"encoded_img\")\n",
    "x = layers.Reshape((4, 4, 1))(decoder_input)\n",
    "x = layers.Conv2DTranspose(16, 3, activation=\"relu\")(x)\n",
    "x = layers.Conv2DTranspose(32, 3, activation=\"relu\")(x)\n",
    "x = layers.UpSampling2D(3)(x)\n",
    "x = layers.Conv2DTranspose(16, 3, activation=\"relu\")(x)\n",
    "decoder_output = layers.Conv2DTranspose(1, 3, activation=\"relu\")(x)\n",
    "\n",
    "decoder = keras.Model(decoder_input, decoder_output, name=\"decoder\")\n",
    "# decoder.summary()\n",
    "\n",
    "autoencoder_input = keras.Input(shape=(28, 28, 1), name=\"img\")\n",
    "encoded_img = encoder(autoencoder_input)\n",
    "decoded_img = decoder(encoded_img)\n",
    "autoencoder = keras.Model(autoencoder_input, decoded_img, name=\"autoencoder\")\n",
    "# autoencoder.summary()\n",
    "encoded_img.op"
   ]
  },
  {
   "cell_type": "code",
   "execution_count": 94,
   "metadata": {},
   "outputs": [],
   "source": [
    "(x_train, y_train), (x_test, y_test) = tf.keras.datasets.mnist.load_data()\n",
    "\n",
    "# Preprocess the data (these are NumPy arrays)\n",
    "x_train = x_train.reshape(60000, 784).astype(\"float32\") / 255\n",
    "x_test = x_test.reshape(10000, 784).astype(\"float32\") / 255\n",
    "\n",
    "y_train = y_train.astype(\"float32\")\n",
    "y_test = y_test.astype(\"float32\")\n",
    "\n",
    "# Reserve 10,000 samples for validation\n",
    "x_val = x_train[-10000:]\n",
    "y_val = y_train[-10000:]\n",
    "x_train = x_train[:-10000]\n",
    "y_train = y_train[:-10000]\n",
    "\n",
    "def get_uncompiled_model():\n",
    "    inputs = tf.keras.Input(shape=(784,), name=\"digits\")\n",
    "    x = tf.keras.layers.Dense(64, activation=\"relu\", name=\"dense_1\")(inputs)\n",
    "    x = tf.keras.layers.Dense(64, activation=\"relu\", name=\"dense_2\")(x)\n",
    "    outputs =  tf.keras.layers.Dense(10, activation=\"softmax\", name=\"predictions\")(x)\n",
    "    model = tf.keras.Model(inputs=inputs, outputs=outputs)\n",
    "    return model\n",
    "\n",
    "\n",
    "class CategoricalTruePositives(tf.keras.metrics.Metric):\n",
    "    def __init__(self, name=\"dddddddeqewrqwe\", **kwargs):\n",
    "        super(CategoricalTruePositives, self).__init__(name=name, **kwargs)\n",
    "        self.true_positives = self.add_weight(name=\"ctp\", initializer=\"zeros\")\n",
    "\n",
    "    def update_state(self, y_true, y_pred, sample_weight=None):\n",
    "        y_pred = tf.reshape(tf.argmax(y_pred, axis=1), shape=(-1, 1))\n",
    "        values = tf.cast(y_true, \"int32\") == tf.cast(y_pred, \"int32\")\n",
    "        values = tf.cast(values, \"float32\")\n",
    "        if sample_weight is not None:\n",
    "            sample_weight = tf.cast(sample_weight, \"float32\")\n",
    "            values = tf.multiply(values, sample_weight)\n",
    "        self.true_positives.assign_add(tf.reduce_sum(values))\n",
    "\n",
    "    def result(self):\n",
    "        return self.true_positives\n",
    "\n",
    "    def reset_states(self):\n",
    "        # The state of the metric will be reset at the start of each epoch.\n",
    "        self.true_positives.assign(0.0)\n",
    "\n",
    "\n",
    "model = get_uncompiled_model()\n",
    "model.compile(\n",
    "    optimizer=tf.keras.optimizers.RMSprop(learning_rate=1e-3),\n",
    "    loss=tf.keras.losses.SparseCategoricalCrossentropy(),\n",
    "    metrics=[CategoricalTruePositives()],\n",
    ")\n",
    "model.fit(x_train, y_train, batch_size=64, epochs=1)\n",
    "\n",
    "for m in model.metrics:\n",
    "    tf.print(m.name) \n",
    "            "
   ]
  },
  {
   "cell_type": "code",
   "execution_count": null,
   "metadata": {},
   "outputs": [],
   "source": []
  }
 ],
 "metadata": {
  "kernelspec": {
   "display_name": "Python 3",
   "language": "python",
   "name": "python3"
  },
  "language_info": {
   "codemirror_mode": {
    "name": "ipython",
    "version": 3
   },
   "file_extension": ".py",
   "mimetype": "text/x-python",
   "name": "python",
   "nbconvert_exporter": "python",
   "pygments_lexer": "ipython3",
   "version": "3.7.5"
  }
 },
 "nbformat": 4,
 "nbformat_minor": 4
}
