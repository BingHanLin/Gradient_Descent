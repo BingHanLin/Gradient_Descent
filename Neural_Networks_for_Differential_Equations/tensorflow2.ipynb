{
 "cells": [
  {
   "cell_type": "markdown",
   "metadata": {},
   "source": [
    "Ref: \n",
    "https://www.tensorflow.org/guide/keras/custom_layers_and_models\n",
    "https://www.tensorflow.org/guide/keras/customizing_what_happens_in_fit\n",
    "\n",
    "https://tf.wiki/zh_hant/preface.html"
   ]
  },
  {
   "cell_type": "markdown",
   "metadata": {},
   "source": [
    "## The ODE example"
   ]
  },
  {
   "cell_type": "markdown",
   "metadata": {
    "colab_type": "text",
    "id": "J6eLaCMr_Hnm"
   },
   "source": [
    "The ODE equation is:\n",
    "\n",
    "$$\\frac{d\\phi}{dt}+(t+\\frac{1+3t^2}{1+t+t^3})\\phi=t^3+2t+t^2\\frac{1+3t^2}{1+t+t^3}$$"
   ]
  },
  {
   "cell_type": "markdown",
   "metadata": {},
   "source": [
    "With the following condition:\n",
    "$$\\phi(0) = 1\\quad and \\quad t \\in [0,1]$$"
   ]
  },
  {
   "cell_type": "markdown",
   "metadata": {},
   "source": [
    "The analytic solution is:\n",
    "    \n",
    "$$\\phi(t) = \\frac{e^{-t^2}/2}{1+t+t^3}$$"
   ]
  },
  {
   "cell_type": "code",
   "execution_count": 100,
   "metadata": {},
   "outputs": [
    {
     "name": "stdout",
     "output_type": "stream",
     "text": [
      "2.3.1\n"
     ]
    }
   ],
   "source": [
    "# TensorFlow and tf.keras\n",
    "import tensorflow as tf\n",
    "\n",
    "# Helper libraries\n",
    "import numpy as np\n",
    "import matplotlib.pyplot as plt\n",
    "import time\n",
    "\n",
    "print(tf.__version__)"
   ]
  },
  {
   "cell_type": "markdown",
   "metadata": {},
   "source": [
    "# 1. Build model"
   ]
  },
  {
   "cell_type": "markdown",
   "metadata": {},
   "source": [
    "## [Loss function](https://www.tensorflow.org/guide/keras/train_and_evaluate#custom_losses)"
   ]
  },
  {
   "cell_type": "code",
   "execution_count": 101,
   "metadata": {},
   "outputs": [],
   "source": [
    "class ODE_Loss(tf.keras.losses.Loss):\n",
    "    def __init__(self, regularization_factor=0.1, name=\"ODE_Loss\"):\n",
    "        super().__init__(name=name)\n",
    "\n",
    "    def call(self, inputs, phi):\n",
    "        phi_t = tf.gradients(phi, inputs)[0]\n",
    "\n",
    "        governing_Eq = phi_t[1:]+(inputs[1:] + (1. + 3.*inputs[1:]**2) / (1. + inputs[1:] + inputs[1:]**3))*phi[1:] - \\\n",
    "                       (inputs[1:]**3 + 2.*inputs[1:] + inputs[1:]**2 * ((1. + 3.*inputs[1:]**2) / (1. + inputs[1:] + inputs[1:]**3)))\n",
    "\n",
    "        loss = tf.reduce_mean(tf.square(governing_Eq)) + tf.reduce_mean(tf.square(phi[0]-1)) \n",
    "\n",
    "        return loss"
   ]
  },
  {
   "cell_type": "markdown",
   "metadata": {},
   "source": [
    "## [Metric](https://www.tensorflow.org/guide/keras/train_and_evaluate#custom_metrics)"
   ]
  },
  {
   "cell_type": "code",
   "execution_count": 102,
   "metadata": {},
   "outputs": [],
   "source": [
    "class ODE_Metric(tf.keras.metrics.Metric):\n",
    "    def __init__(self, name=\"ODE_Metric\", **kwargs):\n",
    "        super().__init__(name=name, **kwargs)\n",
    "         # define metric state variable here\n",
    "        \n",
    "    def update_state(self, y_true, y_pred, sample_weight=None):\n",
    "        # update metric state variable here\n",
    "        pass\n",
    "    \n",
    "    def result(self):\n",
    "        # update metric result here\n",
    "        return 0.0\n",
    "\n",
    "    def reset_states(self):\n",
    "        # reset metric state here\n",
    "        pass\n"
   ]
  },
  {
   "cell_type": "markdown",
   "metadata": {},
   "source": [
    "## [Model](https://www.tensorflow.org/guide/keras/customizing_what_happens_in_fit)"
   ]
  },
  {
   "cell_type": "code",
   "execution_count": 137,
   "metadata": {},
   "outputs": [],
   "source": [
    "class solve_ODE_Model(tf.keras.Model):\n",
    "    def __init__(self):\n",
    "        super().__init__() \n",
    "\n",
    "        self.layer1 = tf.keras.layers.Dense(units=10, activation=tf.nn.sigmoid, name='layer1')\n",
    "        self.layer2 = tf.keras.layers.Dense(units=10, activation=tf.nn.sigmoid, name='layer2')\n",
    "        self.layer3 = tf.keras.layers.Dense(units=1, name='output')\n",
    "        \n",
    "            \n",
    "    def call(self, inputs):\n",
    "        outputs = self.layer1(inputs)\n",
    "        outputs = self.layer2(outputs)\n",
    "        outputs = self.layer3(outputs)\n",
    "        return outputs\n",
    "    \n",
    "    def train_step(self, inputs):\n",
    "        # handle inputs depend on your model and on what you pass to `fit()`.\n",
    "\n",
    "        with tf.GradientTape() as tape:\n",
    "            phi = self(inputs, training=True)\n",
    "\n",
    "            # Compute the loss value\n",
    "            # (the loss function is configured in `compile()`)\n",
    "            loss = self.compiled_loss(inputs, phi)\n",
    "\n",
    "        # Compute gradients\n",
    "        trainable_vars = self.trainable_variables\n",
    "        gradients = tape.gradient(loss, trainable_vars)\n",
    "\n",
    "        # Update weights\n",
    "        self.optimizer.apply_gradients(zip(gradients, trainable_vars))\n",
    "        \n",
    "        # Update metrics (includes the metric that tracks the loss)\n",
    "        _ = tf.zeros(shape=(2))\n",
    "        self.compiled_metrics.update_state(_, _)\n",
    "    \n",
    "        # Return a dict mapping metric names to current value\n",
    "        return {m.name: m.result() for m in self.metrics}\n",
    "\n",
    "    # issue:\n",
    "    # https://github.com/tensorflow/tensorflow/issues/25036\n",
    "    # https://stackoverflow.com/questions/55235212/model-summary-cant-print-output-shape-while-using-subclass-model/55236388#55236388\n",
    "    def summary(self):\n",
    "        x = tf.keras.Input(shape=(1))\n",
    "        model = tf.keras.Model(inputs=[x], outputs=self.call(x))\n",
    "        return model.summary()"
   ]
  },
  {
   "cell_type": "markdown",
   "metadata": {},
   "source": [
    "# 2. Run model"
   ]
  },
  {
   "cell_type": "markdown",
   "metadata": {},
   "source": [
    "## Create input"
   ]
  },
  {
   "cell_type": "code",
   "execution_count": 138,
   "metadata": {},
   "outputs": [],
   "source": [
    "t_all = np.linspace(0, 1, 10)\n",
    "\n",
    "t_n = t_all[1:]\n",
    "t_n = t_n.reshape(t_n.shape[0],-1)\n",
    "t_n = tf.constant(t_n, dtype=tf.float32)\n",
    "\n",
    "t_0 = t_all[:1]\n",
    "t_0 = t_0.reshape(t_0.shape[0],-1)\n",
    "t_0 = tf.constant(t_0, dtype=tf.float32)\n",
    "\n",
    "t_input = tf.concat([t_0, t_n], 0)"
   ]
  },
  {
   "cell_type": "markdown",
   "metadata": {},
   "source": [
    "### Instantiate model ()"
   ]
  },
  {
   "cell_type": "code",
   "execution_count": 139,
   "metadata": {},
   "outputs": [
    {
     "name": "stdout",
     "output_type": "stream",
     "text": [
      "Model: \"functional_5\"\n",
      "_________________________________________________________________\n",
      "Layer (type)                 Output Shape              Param #   \n",
      "=================================================================\n",
      "input_10 (InputLayer)        [(None, 1)]               0         \n",
      "_________________________________________________________________\n",
      "layer1 (Dense)               (None, 10)                20        \n",
      "_________________________________________________________________\n",
      "layer2 (Dense)               (None, 10)                110       \n",
      "_________________________________________________________________\n",
      "output (Dense)               (None, 1)                 11        \n",
      "=================================================================\n",
      "Total params: 141\n",
      "Trainable params: 141\n",
      "Non-trainable params: 0\n",
      "_________________________________________________________________\n"
     ]
    }
   ],
   "source": [
    "model = solve_ODE_Model()\n",
    "    \n",
    "model.compile(\n",
    "    optimizer=tf.keras.optimizers.Adam(),\n",
    "    loss=ODE_Loss(),\n",
    "    metrics=[ODE_Metric(),]\n",
    ")\n",
    "\n",
    "model.summary()"
   ]
  },
  {
   "cell_type": "markdown",
   "metadata": {},
   "source": [
    "## Run model"
   ]
  },
  {
   "cell_type": "code",
   "execution_count": 129,
   "metadata": {},
   "outputs": [
    {
     "name": "stdout",
     "output_type": "stream",
     "text": [
      "Model: \"solve_ode__model_48\"\n",
      "_________________________________________________________________\n",
      "Layer (type)                 Output Shape              Param #   \n",
      "=================================================================\n",
      "layer1 (Dense)               multiple                  20        \n",
      "_________________________________________________________________\n",
      "layer2 (Dense)               multiple                  110       \n",
      "_________________________________________________________________\n",
      "output (Dense)               multiple                  11        \n",
      "=================================================================\n",
      "Total params: 141\n",
      "Trainable params: 141\n",
      "Non-trainable params: 0\n",
      "_________________________________________________________________\n"
     ]
    }
   ],
   "source": [
    "model.fit(t_input, shuffle=False, epochs=1500, verbose =0)\n",
    "\n",
    "model.summary()"
   ]
  },
  {
   "cell_type": "code",
   "execution_count": 34,
   "metadata": {},
   "outputs": [
    {
     "data": {
      "text/plain": [
       "<tf.Tensor: shape=(20, 1), dtype=float32, numpy=\n",
       "array([[1.0002697 ],\n",
       "       [0.95504093],\n",
       "       [0.91485983],\n",
       "       [0.87999624],\n",
       "       [0.85063505],\n",
       "       [0.8269128 ],\n",
       "       [0.80895215],\n",
       "       [0.79689103],\n",
       "       [0.79090595],\n",
       "       [0.791228  ],\n",
       "       [0.79814655],\n",
       "       [0.812007  ],\n",
       "       [0.8331893 ],\n",
       "       [0.8620778 ],\n",
       "       [0.89900976],\n",
       "       [0.94421047],\n",
       "       [0.9977113 ],\n",
       "       [1.059264  ],\n",
       "       [1.1282609 ],\n",
       "       [1.203681  ]], dtype=float32)>"
      ]
     },
     "execution_count": 34,
     "metadata": {},
     "output_type": "execute_result"
    }
   ],
   "source": [
    "model(t_input)"
   ]
  },
  {
   "cell_type": "markdown",
   "metadata": {},
   "source": [
    "# Validate Model"
   ]
  },
  {
   "cell_type": "code",
   "execution_count": 35,
   "metadata": {},
   "outputs": [],
   "source": [
    "def analytic_sol(x):\n",
    "    '''\n",
    "        Analytical solution of current problem\n",
    "    '''\n",
    "    return (np.exp((-x**2)/2.)) / (1. + x + x**3) + x**2"
   ]
  },
  {
   "cell_type": "code",
   "execution_count": 36,
   "metadata": {},
   "outputs": [],
   "source": [
    "phi_analytic=analytic_sol(t_all)\n",
    "phi_predict=model(t_input)"
   ]
  },
  {
   "cell_type": "code",
   "execution_count": 37,
   "metadata": {},
   "outputs": [
    {
     "data": {
      "image/png": "[encoded data removed]",
      "text/plain": [
       "<Figure size 432x288 with 1 Axes>"
      ]
     },
     "metadata": {
      "needs_background": "light"
     },
     "output_type": "display_data"
    }
   ],
   "source": [
    "from matplotlib import pyplot as plt\n",
    "\n",
    "fig, ax = plt.subplots()\n",
    "\n",
    "ax.plot(t_all, phi_analytic, 'bo-', label=\"analytic sol\") \n",
    "ax.plot(t_all, phi_predict, 'r*-', label=\"predict sol\")\n",
    "\n",
    "ax.legend(bbox_to_anchor=(0., 1.02, 1., .102), loc=3,\n",
    "           ncol=2, mode=\"expand\", borderaxespad=0.)\n",
    "\n",
    "ax.set_ylabel('phi Value')\n",
    "ax.set_xlabel('X - axis')\n",
    "ax.grid()\n",
    "plt.savefig('ANN_for_ODE.png')\n",
    "plt.show()"
   ]
  }
 ],
 "metadata": {
  "kernelspec": {
   "display_name": "Python 3",
   "language": "python",
   "name": "python3"
  },
  "language_info": {
   "codemirror_mode": {
    "name": "ipython",
    "version": 3
   },
   "file_extension": ".py",
   "mimetype": "text/x-python",
   "name": "python",
   "nbconvert_exporter": "python",
   "pygments_lexer": "ipython3",
   "version": "3.7.5"
  }
 },
 "nbformat": 4,
 "nbformat_minor": 4
}
